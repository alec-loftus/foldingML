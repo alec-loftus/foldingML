{
 "cells": [
  {
   "cell_type": "markdown",
   "metadata": {},
   "source": [
    "This notebook loads a csv file generated from simulations of a protein.\n",
    "Technically we should have csvs for under two sets of conditions (traj3_scored and traj7_scored), but I'm fixing a bug\n",
    "\n",
    "In any regard, each csv contains time-averaged properties such as Rg (radius of gyration) and RMSF (root mean square fluctuations) for tens of proteins. Each line of the csv represents on protein.\n",
    "\n",
    "We would like to predict which proteins will fold (e.g. have an RgEnd below a cutoff value of say 18), based on properties reported in this csv file. \n",
    "Note that the RgEnd is an output, not a feature used for the prediction. \n",
    "\n",
    "Ultimately, I load the data, create a new property called 'isFolded' and proceed to separate the data into inputs (X) and outputs (Y), of which the latter corresponds to the isFolded property value (True/False). X is informed from a feature set defined below. \n",
    "\n",
    "I used a decision tree as one of many machine learning approaches that can be tested. \n",
    "\n",
    "For the time being, the traj*_scored.csv files will be stored in the repo along with the code\n"
   ]
  },
  {
   "cell_type": "code",
   "execution_count": 1,
   "metadata": {},
   "outputs": [],
   "source": [
    "import numpy as np\n",
    "import pandas as pd\n",
    "import matplotlib.pylab as plt"
   ]
  },
  {
   "cell_type": "markdown",
   "metadata": {},
   "source": [
    "#### Loading data set"
   ]
  },
  {
   "cell_type": "code",
   "execution_count": 2,
   "metadata": {},
   "outputs": [
    {
     "data": {
      "text/plain": [
       "30"
      ]
     },
     "execution_count": 2,
     "metadata": {},
     "output_type": "execute_result"
    }
   ],
   "source": [
    "dfa = pd.read_csv( \"traj3_scored.csv\" )\n",
    "len(dfa.index)"
   ]
  },
  {
   "cell_type": "code",
   "execution_count": 3,
   "metadata": {},
   "outputs": [
    {
     "data": {
      "text/html": [
       "<div>\n",
       "<style scoped>\n",
       "    .dataframe tbody tr th:only-of-type {\n",
       "        vertical-align: middle;\n",
       "    }\n",
       "\n",
       "    .dataframe tbody tr th {\n",
       "        vertical-align: top;\n",
       "    }\n",
       "\n",
       "    .dataframe thead th {\n",
       "        text-align: right;\n",
       "    }\n",
       "</style>\n",
       "<table border=\"1\" class=\"dataframe\">\n",
       "  <thead>\n",
       "    <tr style=\"text-align: right;\">\n",
       "      <th></th>\n",
       "      <th>Unnamed: 0</th>\n",
       "      <th>Unnamed: 0.1</th>\n",
       "      <th>copy</th>\n",
       "      <th>fasta</th>\n",
       "      <th>binEdges</th>\n",
       "      <th>RgHist</th>\n",
       "      <th>RgStart</th>\n",
       "      <th>RgEnd</th>\n",
       "      <th>RMSF</th>\n",
       "      <th>negative</th>\n",
       "    </tr>\n",
       "  </thead>\n",
       "  <tbody>\n",
       "    <tr>\n",
       "      <th>0</th>\n",
       "      <td>0</td>\n",
       "      <td>0</td>\n",
       "      <td>0</td>\n",
       "      <td>MGTESGDPEEEELEEEEELVDPLETTVREQCEQLDEKCVKARERLE...</td>\n",
       "      <td>[10. 11. 12. ... 18. 19. 20.]</td>\n",
       "      <td>13.0</td>\n",
       "      <td>17.629680</td>\n",
       "      <td>13.458850</td>\n",
       "      <td>6.301747</td>\n",
       "      <td>0.241758</td>\n",
       "    </tr>\n",
       "    <tr>\n",
       "      <th>1</th>\n",
       "      <td>1</td>\n",
       "      <td>1</td>\n",
       "      <td>1</td>\n",
       "      <td>MGTESGDPEEEELEEEEELVDPLETTVREQCEQLDEKCVKARERLE...</td>\n",
       "      <td>[10. 11. 12. ... 18. 19. 20.]</td>\n",
       "      <td>12.0</td>\n",
       "      <td>17.672291</td>\n",
       "      <td>12.476428</td>\n",
       "      <td>5.412555</td>\n",
       "      <td>0.241758</td>\n",
       "    </tr>\n",
       "    <tr>\n",
       "      <th>2</th>\n",
       "      <td>2</td>\n",
       "      <td>2</td>\n",
       "      <td>2</td>\n",
       "      <td>MGTESGDPEEEELEEEEELVDPLETTVREQCEQLDEKCVKARERLE...</td>\n",
       "      <td>[10. 11. 12. ... 18. 19. 20.]</td>\n",
       "      <td>13.0</td>\n",
       "      <td>17.606146</td>\n",
       "      <td>14.193896</td>\n",
       "      <td>5.673626</td>\n",
       "      <td>0.241758</td>\n",
       "    </tr>\n",
       "    <tr>\n",
       "      <th>3</th>\n",
       "      <td>3</td>\n",
       "      <td>3</td>\n",
       "      <td>3</td>\n",
       "      <td>MGTESGDPEEEELEEEEELVDPLETTVREQCEQLDEKCVKARERLE...</td>\n",
       "      <td>[10. 11. 12. ... 18. 19. 20.]</td>\n",
       "      <td>13.0</td>\n",
       "      <td>17.621758</td>\n",
       "      <td>13.790629</td>\n",
       "      <td>3.942018</td>\n",
       "      <td>0.241758</td>\n",
       "    </tr>\n",
       "    <tr>\n",
       "      <th>4</th>\n",
       "      <td>4</td>\n",
       "      <td>4</td>\n",
       "      <td>4</td>\n",
       "      <td>MGTESGDPEEEELEEEEELVDPLETTVREQCEQLDEKCVKARERLE...</td>\n",
       "      <td>[10. 11. 12. ... 18. 19. 20.]</td>\n",
       "      <td>14.0</td>\n",
       "      <td>17.652820</td>\n",
       "      <td>15.384474</td>\n",
       "      <td>5.677054</td>\n",
       "      <td>0.241758</td>\n",
       "    </tr>\n",
       "  </tbody>\n",
       "</table>\n",
       "</div>"
      ],
      "text/plain": [
       "   Unnamed: 0  Unnamed: 0.1  copy  \\\n",
       "0           0             0     0   \n",
       "1           1             1     1   \n",
       "2           2             2     2   \n",
       "3           3             3     3   \n",
       "4           4             4     4   \n",
       "\n",
       "                                               fasta  \\\n",
       "0  MGTESGDPEEEELEEEEELVDPLETTVREQCEQLDEKCVKARERLE...   \n",
       "1  MGTESGDPEEEELEEEEELVDPLETTVREQCEQLDEKCVKARERLE...   \n",
       "2  MGTESGDPEEEELEEEEELVDPLETTVREQCEQLDEKCVKARERLE...   \n",
       "3  MGTESGDPEEEELEEEEELVDPLETTVREQCEQLDEKCVKARERLE...   \n",
       "4  MGTESGDPEEEELEEEEELVDPLETTVREQCEQLDEKCVKARERLE...   \n",
       "\n",
       "                        binEdges  RgHist    RgStart      RgEnd      RMSF  \\\n",
       "0  [10. 11. 12. ... 18. 19. 20.]    13.0  17.629680  13.458850  6.301747   \n",
       "1  [10. 11. 12. ... 18. 19. 20.]    12.0  17.672291  12.476428  5.412555   \n",
       "2  [10. 11. 12. ... 18. 19. 20.]    13.0  17.606146  14.193896  5.673626   \n",
       "3  [10. 11. 12. ... 18. 19. 20.]    13.0  17.621758  13.790629  3.942018   \n",
       "4  [10. 11. 12. ... 18. 19. 20.]    14.0  17.652820  15.384474  5.677054   \n",
       "\n",
       "   negative  \n",
       "0  0.241758  \n",
       "1  0.241758  \n",
       "2  0.241758  \n",
       "3  0.241758  \n",
       "4  0.241758  "
      ]
     },
     "execution_count": 3,
     "metadata": {},
     "output_type": "execute_result"
    }
   ],
   "source": [
    "dfa.head()"
   ]
  },
  {
   "cell_type": "markdown",
   "metadata": {},
   "source": [
    "### \"inject answers\"\n",
    "This is a placeholder until I get statistics from the other dataset"
   ]
  },
  {
   "cell_type": "code",
   "execution_count": 4,
   "metadata": {},
   "outputs": [],
   "source": [
    "dfb=dfa.copy()"
   ]
  },
  {
   "cell_type": "code",
   "execution_count": 5,
   "metadata": {},
   "outputs": [],
   "source": [
    "ar =dfb['RgStart']\n",
    "ar*=1.5\n",
    "dfb['RgStart']=ar\n",
    "\n",
    "ar =dfb['RgEnd']\n",
    "ar*=1.35\n",
    "dfb['RgEnd']=ar\n",
    "\n"
   ]
  },
  {
   "cell_type": "markdown",
   "metadata": {},
   "source": [
    "### Apply threshold criterion "
   ]
  },
  {
   "cell_type": "code",
   "execution_count": 6,
   "metadata": {},
   "outputs": [
    {
     "data": {
      "image/png": "[encoded data removed]",
      "text/plain": [
       "<Figure size 432x288 with 1 Axes>"
      ]
     },
     "metadata": {
      "needs_background": "light"
     },
     "output_type": "display_data"
    }
   ],
   "source": [
    "plt.hist(dfa['RgEnd'],label=\"A\")\n",
    "plt.hist(dfb['RgEnd'],label=\"B\")\n",
    "\n",
    "cutoff = 18."
   ]
  },
  {
   "cell_type": "code",
   "execution_count": 7,
   "metadata": {},
   "outputs": [],
   "source": [
    "df = pd.concat([dfa,dfb])\n",
    "df['isFolded']=np.where(df['RgEnd']<cutoff,True,False)\n"
   ]
  },
  {
   "cell_type": "markdown",
   "metadata": {},
   "source": [
    "### Create inputs/outputs for ML\n",
    "We wish to use scalar data, so we are just going to select a subset of features here"
   ]
  },
  {
   "cell_type": "code",
   "execution_count": 9,
   "metadata": {},
   "outputs": [],
   "source": [
    "feature_cols = [\"RgHist\",\"RgStart\",\"RgEnd\",\"RMSF\",\"negative\"]\n",
    "#feature_cols = [\"RgStart\",\"RgEnd\"]\n",
    "X = df[feature_cols]\n",
    "y = df.isFolded"
   ]
  },
  {
   "cell_type": "markdown",
   "metadata": {},
   "source": [
    "### Learning\n",
    "borrowed from https://www.datacamp.com/tutorial/decision-tree-classification-python"
   ]
  },
  {
   "cell_type": "code",
   "execution_count": 10,
   "metadata": {},
   "outputs": [],
   "source": [
    "import sklearn \n",
    "from sklearn import metrics\n",
    "from sklearn.model_selection import train_test_split\n",
    "from sklearn.tree import DecisionTreeClassifier"
   ]
  },
  {
   "cell_type": "code",
   "execution_count": 11,
   "metadata": {},
   "outputs": [],
   "source": [
    "# Split dataset into training set and test set\n",
    "X_train, X_test, y_train, y_test = train_test_split(X, y, test_size=0.3)#, random_state=1) "
   ]
  },
  {
   "cell_type": "code",
   "execution_count": 12,
   "metadata": {},
   "outputs": [],
   "source": [
    "# Create Decision Tree classifer object\n",
    "clf = DecisionTreeClassifier()\n",
    "\n",
    "# Train Decision Tree Classifer\n",
    "clf = clf.fit(X_train,y_train)\n",
    "\n",
    "#Predict the response for test dataset\n",
    "y_pred = clf.predict(X_test)"
   ]
  },
  {
   "cell_type": "code",
   "execution_count": 13,
   "metadata": {},
   "outputs": [
    {
     "name": "stdout",
     "output_type": "stream",
     "text": [
      "Accuracy: 0.9444444444444444\n"
     ]
    }
   ],
   "source": [
    "# Model Accuracy, how often is the classifier correct?\n",
    "print(\"Accuracy:\",metrics.accuracy_score(y_test, y_pred))"
   ]
  },
  {
   "cell_type": "markdown",
   "metadata": {},
   "source": [
    "### Display"
   ]
  },
  {
   "cell_type": "code",
   "execution_count": 14,
   "metadata": {},
   "outputs": [
    {
     "name": "stdout",
     "output_type": "stream",
     "text": [
      "Requirement already satisfied: six in /u1/pkekeneshuskey/anaconda3/lib/python3.8/site-packages (1.15.0)\r\n"
     ]
    }
   ],
   "source": [
    "!pip3 install six"
   ]
  },
  {
   "cell_type": "code",
   "execution_count": 15,
   "metadata": {},
   "outputs": [],
   "source": [
    "from sklearn.tree import export_graphviz\n",
    "#from sklearn.externals.six import StringIO  \n",
    "from six import StringIO  \n",
    "from IPython.display import Image  \n",
    "import pydotplus"
   ]
  },
  {
   "cell_type": "code",
   "execution_count": 16,
   "metadata": {},
   "outputs": [],
   "source": [
    "dot_data = StringIO()\n",
    "export_graphviz(clf, out_file=dot_data,  \n",
    "                filled=True, rounded=True,\n",
    "                special_characters=True,feature_names = feature_cols,class_names=['0','1'])\n",
    "graph = pydotplus.graph_from_dot_data(dot_data.getvalue())  "
   ]
  },
  {
   "cell_type": "code",
   "execution_count": 17,
   "metadata": {},
   "outputs": [
    {
     "data": {
      "image/png": "[encoded data removed]",
      "text/plain": [
       "<IPython.core.display.Image object>"
      ]
     },
     "execution_count": 17,
     "metadata": {},
     "output_type": "execute_result"
    }
   ],
   "source": [
    "#graph.write_png('diabetes.png')\n",
    "Image(graph.create_png())"
   ]
  },
  {
   "cell_type": "code",
   "execution_count": null,
   "metadata": {},
   "outputs": [],
   "source": []
  }
 ],
 "metadata": {
  "kernelspec": {
   "display_name": "Python 3",
   "language": "python",
   "name": "python3"
  },
  "language_info": {
   "codemirror_mode": {
    "name": "ipython",
    "version": 3
   },
   "file_extension": ".py",
   "mimetype": "text/x-python",
   "name": "python",
   "nbconvert_exporter": "python",
   "pygments_lexer": "ipython3",
   "version": "3.8.3"
  }
 },
 "nbformat": 4,
 "nbformat_minor": 4
}

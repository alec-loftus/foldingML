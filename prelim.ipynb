{
 "cells": [
  {
   "cell_type": "code",
   "execution_count": 20,
   "metadata": {},
   "outputs": [],
   "source": [
    "import numpy as np\n",
    "import pandas as pd\n",
    "import matplotlib.pylab as plt"
   ]
  },
  {
   "cell_type": "markdown",
   "metadata": {},
   "source": [
    "#### Loading data set"
   ]
  },
  {
   "cell_type": "code",
   "execution_count": 11,
   "metadata": {},
   "outputs": [
    {
     "data": {
      "text/plain": [
       "70"
      ]
     },
     "execution_count": 11,
     "metadata": {},
     "output_type": "execute_result"
    }
   ],
   "source": [
    "dfa = pd.read_csv( \"traj3.csv\" )\n",
    "len(dfa.index)"
   ]
  },
  {
   "cell_type": "code",
   "execution_count": 32,
   "metadata": {},
   "outputs": [
    {
     "data": {
      "text/html": [
       "<div>\n",
       "<style scoped>\n",
       "    .dataframe tbody tr th:only-of-type {\n",
       "        vertical-align: middle;\n",
       "    }\n",
       "\n",
       "    .dataframe tbody tr th {\n",
       "        vertical-align: top;\n",
       "    }\n",
       "\n",
       "    .dataframe thead th {\n",
       "        text-align: right;\n",
       "    }\n",
       "</style>\n",
       "<table border=\"1\" class=\"dataframe\">\n",
       "  <thead>\n",
       "    <tr style=\"text-align: right;\">\n",
       "      <th></th>\n",
       "      <th>Unnamed: 0</th>\n",
       "      <th>copy</th>\n",
       "      <th>fasta</th>\n",
       "      <th>binEdges</th>\n",
       "      <th>RgHist</th>\n",
       "      <th>RgStart</th>\n",
       "      <th>RgEnd</th>\n",
       "      <th>RMSF</th>\n",
       "    </tr>\n",
       "  </thead>\n",
       "  <tbody>\n",
       "    <tr>\n",
       "      <th>0</th>\n",
       "      <td>0</td>\n",
       "      <td>0</td>\n",
       "      <td>MGTESGDPEEEELEEEEELVDPLETTVREQCEQLDEKCVKARERLE...</td>\n",
       "      <td>[10. 11. 12. ... 18. 19. 20.]</td>\n",
       "      <td>[0.         0.         0.21052632 0.66066482 0...</td>\n",
       "      <td>17.629680</td>\n",
       "      <td>13.458850</td>\n",
       "      <td>[12.73553784 14.23062392 12.10763548 ...  6.67...</td>\n",
       "    </tr>\n",
       "    <tr>\n",
       "      <th>1</th>\n",
       "      <td>1</td>\n",
       "      <td>1</td>\n",
       "      <td>MGTESGDPEEEELEEEEELVDPLETTVREQCEQLDEKCVKARERLE...</td>\n",
       "      <td>[10. 11. 12. ... 18. 19. 20.]</td>\n",
       "      <td>[0.         0.         0.50692521 0.40581717 0...</td>\n",
       "      <td>17.672291</td>\n",
       "      <td>12.476428</td>\n",
       "      <td>[10.75759668 12.39561268  9.94118727 ...  5.81...</td>\n",
       "    </tr>\n",
       "    <tr>\n",
       "      <th>2</th>\n",
       "      <td>2</td>\n",
       "      <td>2</td>\n",
       "      <td>MGTESGDPEEEELEEEEELVDPLETTVREQCEQLDEKCVKARERLE...</td>\n",
       "      <td>[10. 11. 12. ... 18. 19. 20.]</td>\n",
       "      <td>[0.         0.         0.05401662 0.66204986 0...</td>\n",
       "      <td>17.606146</td>\n",
       "      <td>14.193896</td>\n",
       "      <td>[13.81664589 15.11218285 13.40769073 ...  4.76...</td>\n",
       "    </tr>\n",
       "    <tr>\n",
       "      <th>3</th>\n",
       "      <td>3</td>\n",
       "      <td>3</td>\n",
       "      <td>MGTESGDPEEEELEEEEELVDPLETTVREQCEQLDEKCVKARERLE...</td>\n",
       "      <td>[10. 11. 12. ... 18. 19. 20.]</td>\n",
       "      <td>[0.         0.         0.02354571 0.80055402 0...</td>\n",
       "      <td>17.621758</td>\n",
       "      <td>13.790629</td>\n",
       "      <td>[4.7032641  6.21502651 4.36357594 ... 3.445494...</td>\n",
       "    </tr>\n",
       "    <tr>\n",
       "      <th>4</th>\n",
       "      <td>4</td>\n",
       "      <td>4</td>\n",
       "      <td>MGTESGDPEEEELEEEEELVDPLETTVREQCEQLDEKCVKARERLE...</td>\n",
       "      <td>[10. 11. 12. ... 18. 19. 20.]</td>\n",
       "      <td>[0.         0.         0.         0.24376731 0...</td>\n",
       "      <td>17.652820</td>\n",
       "      <td>15.384474</td>\n",
       "      <td>[12.29935684 13.89972468 11.56719311 ...  6.54...</td>\n",
       "    </tr>\n",
       "  </tbody>\n",
       "</table>\n",
       "</div>"
      ],
      "text/plain": [
       "   Unnamed: 0  copy                                              fasta  \\\n",
       "0           0     0  MGTESGDPEEEELEEEEELVDPLETTVREQCEQLDEKCVKARERLE...   \n",
       "1           1     1  MGTESGDPEEEELEEEEELVDPLETTVREQCEQLDEKCVKARERLE...   \n",
       "2           2     2  MGTESGDPEEEELEEEEELVDPLETTVREQCEQLDEKCVKARERLE...   \n",
       "3           3     3  MGTESGDPEEEELEEEEELVDPLETTVREQCEQLDEKCVKARERLE...   \n",
       "4           4     4  MGTESGDPEEEELEEEEELVDPLETTVREQCEQLDEKCVKARERLE...   \n",
       "\n",
       "                        binEdges  \\\n",
       "0  [10. 11. 12. ... 18. 19. 20.]   \n",
       "1  [10. 11. 12. ... 18. 19. 20.]   \n",
       "2  [10. 11. 12. ... 18. 19. 20.]   \n",
       "3  [10. 11. 12. ... 18. 19. 20.]   \n",
       "4  [10. 11. 12. ... 18. 19. 20.]   \n",
       "\n",
       "                                              RgHist    RgStart      RgEnd  \\\n",
       "0  [0.         0.         0.21052632 0.66066482 0...  17.629680  13.458850   \n",
       "1  [0.         0.         0.50692521 0.40581717 0...  17.672291  12.476428   \n",
       "2  [0.         0.         0.05401662 0.66204986 0...  17.606146  14.193896   \n",
       "3  [0.         0.         0.02354571 0.80055402 0...  17.621758  13.790629   \n",
       "4  [0.         0.         0.         0.24376731 0...  17.652820  15.384474   \n",
       "\n",
       "                                                RMSF  \n",
       "0  [12.73553784 14.23062392 12.10763548 ...  6.67...  \n",
       "1  [10.75759668 12.39561268  9.94118727 ...  5.81...  \n",
       "2  [13.81664589 15.11218285 13.40769073 ...  4.76...  \n",
       "3  [4.7032641  6.21502651 4.36357594 ... 3.445494...  \n",
       "4  [12.29935684 13.89972468 11.56719311 ...  6.54...  "
      ]
     },
     "execution_count": 32,
     "metadata": {},
     "output_type": "execute_result"
    }
   ],
   "source": [
    "dfa.head()"
   ]
  },
  {
   "cell_type": "markdown",
   "metadata": {},
   "source": [
    "### \"inject answers\"\n",
    "This is a placeholder until I get statistics from the other dataset"
   ]
  },
  {
   "cell_type": "code",
   "execution_count": 12,
   "metadata": {},
   "outputs": [],
   "source": [
    "dfb=dfa.copy()"
   ]
  },
  {
   "cell_type": "code",
   "execution_count": 18,
   "metadata": {},
   "outputs": [],
   "source": [
    "ar =dfb['RgStart']\n",
    "ar*=1.5\n",
    "dfb['RgStart']=ar\n",
    "\n",
    "ar =dfb['RgEnd']\n",
    "ar*=1.35\n",
    "dfb['RgEnd']=ar\n",
    "\n"
   ]
  },
  {
   "cell_type": "markdown",
   "metadata": {},
   "source": [
    "### Apply threshold criterion "
   ]
  },
  {
   "cell_type": "code",
   "execution_count": 26,
   "metadata": {},
   "outputs": [
    {
     "data": {
      "image/png": "[encoded data removed]",
      "text/plain": [
       "<Figure size 432x288 with 1 Axes>"
      ]
     },
     "metadata": {
      "needs_background": "light"
     },
     "output_type": "display_data"
    }
   ],
   "source": [
    "plt.hist(dfa['RgEnd'],label=\"A\")\n",
    "plt.hist(dfb['RgEnd'],label=\"B\")\n",
    "\n",
    "cutoff = 18."
   ]
  },
  {
   "cell_type": "code",
   "execution_count": 31,
   "metadata": {},
   "outputs": [],
   "source": [
    "df = pd.concat([dfa,dfb])\n",
    "df['isFolded']=np.where(df['RgEnd']<cutoff,True,False)\n"
   ]
  },
  {
   "cell_type": "markdown",
   "metadata": {},
   "source": [
    "### Create inputs/outputs for ML\n",
    "We wish to use scalar data, so we are just going to select a subset of features here"
   ]
  },
  {
   "cell_type": "code",
   "execution_count": 50,
   "metadata": {},
   "outputs": [],
   "source": [
    "feature_cols = [\"RgHist\",\"RgStart\",\"RgEnd\",\"RMSF\"]\n",
    "feature_cols = [\"RgStart\",\"RgEnd\"]\n",
    "X = df[feature_cols]\n",
    "y = df.isFolded"
   ]
  },
  {
   "cell_type": "markdown",
   "metadata": {},
   "source": [
    "### Learning\n",
    "borrowed from https://www.datacamp.com/tutorial/decision-tree-classification-python"
   ]
  },
  {
   "cell_type": "code",
   "execution_count": 54,
   "metadata": {},
   "outputs": [],
   "source": [
    "import sklearn \n",
    "from sklearn import metrics\n",
    "from sklearn.model_selection import train_test_split\n",
    "from sklearn.tree import DecisionTreeClassifier"
   ]
  },
  {
   "cell_type": "code",
   "execution_count": 80,
   "metadata": {},
   "outputs": [],
   "source": [
    "# Split dataset into training set and test set\n",
    "X_train, X_test, y_train, y_test = train_test_split(X, y, test_size=0.3)#, random_state=1) "
   ]
  },
  {
   "cell_type": "code",
   "execution_count": 81,
   "metadata": {},
   "outputs": [],
   "source": [
    "# Create Decision Tree classifer object\n",
    "clf = DecisionTreeClassifier()\n",
    "\n",
    "# Train Decision Tree Classifer\n",
    "clf = clf.fit(X_train,y_train)\n",
    "\n",
    "#Predict the response for test dataset\n",
    "y_pred = clf.predict(X_test)"
   ]
  },
  {
   "cell_type": "code",
   "execution_count": 82,
   "metadata": {},
   "outputs": [
    {
     "name": "stdout",
     "output_type": "stream",
     "text": [
      "Accuracy: 1.0\n"
     ]
    }
   ],
   "source": [
    "# Model Accuracy, how often is the classifier correct?\n",
    "print(\"Accuracy:\",metrics.accuracy_score(y_test, y_pred))"
   ]
  },
  {
   "cell_type": "markdown",
   "metadata": {},
   "source": [
    "### Display"
   ]
  },
  {
   "cell_type": "code",
   "execution_count": 83,
   "metadata": {},
   "outputs": [
    {
     "name": "stdout",
     "output_type": "stream",
     "text": [
      "Requirement already satisfied: six in /u1/pkekeneshuskey/anaconda3/lib/python3.8/site-packages (1.15.0)\r\n"
     ]
    }
   ],
   "source": [
    "!pip3 install six"
   ]
  },
  {
   "cell_type": "code",
   "execution_count": 84,
   "metadata": {},
   "outputs": [],
   "source": [
    "from sklearn.tree import export_graphviz\n",
    "#from sklearn.externals.six import StringIO  \n",
    "from six import StringIO  \n",
    "from IPython.display import Image  \n",
    "import pydotplus"
   ]
  },
  {
   "cell_type": "code",
   "execution_count": 85,
   "metadata": {},
   "outputs": [],
   "source": [
    "dot_data = StringIO()\n",
    "export_graphviz(clf, out_file=dot_data,  \n",
    "                filled=True, rounded=True,\n",
    "                special_characters=True,feature_names = feature_cols,class_names=['0','1'])\n",
    "graph = pydotplus.graph_from_dot_data(dot_data.getvalue())  "
   ]
  },
  {
   "cell_type": "code",
   "execution_count": 86,
   "metadata": {},
   "outputs": [
    {
     "data": {
      "image/png": "[encoded data removed]",
      "text/plain": [
       "<IPython.core.display.Image object>"
      ]
     },
     "execution_count": 86,
     "metadata": {},
     "output_type": "execute_result"
    }
   ],
   "source": [
    "#graph.write_png('diabetes.png')\n",
    "Image(graph.create_png())"
   ]
  },
  {
   "cell_type": "code",
   "execution_count": null,
   "metadata": {},
   "outputs": [],
   "source": []
  }
 ],
 "metadata": {
  "kernelspec": {
   "display_name": "Python 3",
   "language": "python",
   "name": "python3"
  },
  "language_info": {
   "codemirror_mode": {
    "name": "ipython",
    "version": 3
   },
   "file_extension": ".py",
   "mimetype": "text/x-python",
   "name": "python",
   "nbconvert_exporter": "python",
   "pygments_lexer": "ipython3",
   "version": "3.8.3"
  }
 },
 "nbformat": 4,
 "nbformat_minor": 4
}

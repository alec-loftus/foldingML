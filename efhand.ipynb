{
  "nbformat": 4,
  "nbformat_minor": 0,
  "metadata": {
    "colab": {
      "provenance": []
    },
    "kernelspec": {
      "name": "python3",
      "display_name": "Python 3"
    },
    "language_info": {
      "name": "python"
    }
  },
  "cells": [
    {
      "cell_type": "code",
      "execution_count": null,
      "metadata": {
        "colab": {
          "base_uri": "https://localhost:8080/"
        },
        "id": "3FY--pV7ShiX",
        "outputId": "74f74060-71a8-4472-f14e-90c24f0fa175"
      },
      "outputs": [
        {
          "output_type": "stream",
          "name": "stdout",
          "text": [
            "Collecting rcsbsearchapi\n",
            "  Downloading rcsbsearchapi-1.5.1.tar.gz (202 kB)\n",
            "\u001b[?25l     \u001b[90m━━━━━━━━━━━━━━━━━━━━━━━━━━━━━━━━━━━━━━━━\u001b[0m \u001b[32m0.0/202.1 kB\u001b[0m \u001b[31m?\u001b[0m eta \u001b[36m-:--:--\u001b[0m\r\u001b[2K     \u001b[91m━━━━━━━━━━━━━━\u001b[0m\u001b[90m╺\u001b[0m\u001b[90m━━━━━━━━━━━━━━━━━━━━━━━━━\u001b[0m \u001b[32m71.7/202.1 kB\u001b[0m \u001b[31m1.9 MB/s\u001b[0m eta \u001b[36m0:00:01\u001b[0m\r\u001b[2K     \u001b[90m━━━━━━━━━━━━━━━━━━━━━━━━━━━━━━━━━━━━━━━━\u001b[0m \u001b[32m202.1/202.1 kB\u001b[0m \u001b[31m3.6 MB/s\u001b[0m eta \u001b[36m0:00:00\u001b[0m\n",
            "\u001b[?25h  Preparing metadata (setup.py) ... \u001b[?25l\u001b[?25hdone\n",
            "Requirement already satisfied: requests>=2.0.0 in /usr/local/lib/python3.10/dist-packages (from rcsbsearchapi) (2.31.0)\n",
            "Requirement already satisfied: tqdm in /usr/local/lib/python3.10/dist-packages (from rcsbsearchapi) (4.66.2)\n",
            "Requirement already satisfied: charset-normalizer<4,>=2 in /usr/local/lib/python3.10/dist-packages (from requests>=2.0.0->rcsbsearchapi) (3.3.2)\n",
            "Requirement already satisfied: idna<4,>=2.5 in /usr/local/lib/python3.10/dist-packages (from requests>=2.0.0->rcsbsearchapi) (3.6)\n",
            "Requirement already satisfied: urllib3<3,>=1.21.1 in /usr/local/lib/python3.10/dist-packages (from requests>=2.0.0->rcsbsearchapi) (2.0.7)\n",
            "Requirement already satisfied: certifi>=2017.4.17 in /usr/local/lib/python3.10/dist-packages (from requests>=2.0.0->rcsbsearchapi) (2024.2.2)\n",
            "Building wheels for collected packages: rcsbsearchapi\n",
            "  Building wheel for rcsbsearchapi (setup.py) ... \u001b[?25l\u001b[?25hdone\n",
            "  Created wheel for rcsbsearchapi: filename=rcsbsearchapi-1.5.1-py2.py3-none-any.whl size=177323 sha256=3833025fa2c98a2f268fe41ee3fa067c00a13b02e380f09071645438e5613f52\n",
            "  Stored in directory: /root/.cache/pip/wheels/44/ad/41/e8ae2bfcdd25a94bf4e51bbc8a953ba420d6a4d5977e1ceb4e\n",
            "Successfully built rcsbsearchapi\n",
            "Installing collected packages: rcsbsearchapi\n",
            "Successfully installed rcsbsearchapi-1.5.1\n"
          ]
        }
      ],
      "source": [
        "!pip install rcsbsearchapi biopython"
      ]
    },
    {
      "cell_type": "code",
      "source": [
        "import rcsbsearchapi"
      ],
      "metadata": {
        "id": "InkwuvgXSjc5"
      },
      "execution_count": null,
      "outputs": []
    },
    {
      "cell_type": "code",
      "source": [
        "import requests\n",
        "\n",
        "def fetch_fasta_sequence(pdb_id):\n",
        "    # Define the URL for fetching sequence data\n",
        "    url = f'https://www.rcsb.org/fasta/entry/{pdb_id}'\n",
        "\n",
        "    try:\n",
        "        # Make a GET request to fetch the sequence data\n",
        "        response = requests.get(url)\n",
        "        response.raise_for_status()  # Raise an exception for non-200 status codes\n",
        "\n",
        "        # Extract the FASTA sequence from the response content\n",
        "        fasta_sequence = response.text\n",
        "\n",
        "        return fasta_sequence\n",
        "    except requests.exceptions.HTTPError as err:\n",
        "        print(f\"HTTP error occurred: {err}\")\n",
        "        return None\n",
        "\n",
        "def scrape_ids(polyResults):\n",
        "  ids = [polyid.split(\"_\")[0] for polyid in polyResults(\"polymer_entity\")]\n",
        "  return ids\n"
      ],
      "metadata": {
        "id": "rDgnzvB9XICw"
      },
      "execution_count": null,
      "outputs": []
    },
    {
      "cell_type": "markdown",
      "source": [],
      "metadata": {
        "id": "DD7nsT3WYKdy"
      }
    },
    {
      "cell_type": "markdown",
      "source": [
        "### Build queries\n",
        "\n",
        "Looking for MSSSP sequence in homo sapiens TRANSALDOLASE"
      ],
      "metadata": {
        "id": "FzNx3wtNYF0q"
      }
    },
    {
      "cell_type": "code",
      "source": [
        "from pathlib import PurePosixPath\n",
        "from rcsbsearchapi.search import SeqMotifQuery, TextQuery\n",
        "#from rcsbsearchapi import rcsb_attributes as attrs\n",
        "\n",
        "# Create terminals for each query (start w Homo sapiens)\n",
        "q1 = TextQuery('\"HOMO\"')\n",
        "print(\"Found \", q1.count())\n",
        "\n",
        "\n",
        "# Use SeqMotifQuery class and add parameters\n",
        "#results = SeqMotifQuery(\"C-x(2,4)-C-x(3)-[LIVMFYWC]-x(8)-H-x(3,5)-H.\",\n",
        "#                        pattern_type=\"prosite\",\n",
        "#                        sequence_type=\"protein\")\n",
        "# By default, the pattern_type argument is \"simple\" and the sequence_type argument is \"protein\".\n",
        "q2 = SeqMotifQuery(\"MSSSP\")  # X is used as a \"variable residue\" and can be any amino acid.\n",
        "print(\"Found \", q2.count())\n",
        "\n",
        "\n",
        "from rcsbsearchapi.search import TextQuery\n",
        "#from rcsbsearchapi import rcsb_attributes as attrs\n",
        "# Create terminals for each query\n",
        "q3 = TextQuery('\"TRANSALDOLASE\"')\n",
        "print(\"Found \", q3.count())\n",
        "\n",
        "results = q1 & q2 & q3\n",
        "# results(\"polymer_entity\") produces an iterator of IDs with return type - polymer entities\n",
        "results(\"polymer_entity\")\n",
        "print(\"Found \", results.count())\n",
        "#for polyid in rresults(\"polymer_entity\"):\n",
        "#    print(polyid)\n"
      ],
      "metadata": {
        "colab": {
          "base_uri": "https://localhost:8080/"
        },
        "id": "0ww4mVY5SspT",
        "outputId": "9a51cb86-551e-4f4f-f765-4b2eef552e3e"
      },
      "execution_count": null,
      "outputs": [
        {
          "output_type": "stream",
          "name": "stdout",
          "text": [
            "Found  137521\n",
            "Found  32\n",
            "Found  280\n",
            "Found  1\n"
          ]
        }
      ]
    },
    {
      "cell_type": "code",
      "source": [
        "# process hits\n",
        "ids = scrape_ids(results)\n",
        "\n",
        "\n",
        "for id in ids:\n",
        "  fasta_seq = fetch_fasta_sequence(id)\n",
        "\n",
        "  if \"Homo\" in fasta_seq:\n",
        "    print(fasta_seq)"
      ],
      "metadata": {
        "colab": {
          "base_uri": "https://localhost:8080/"
        },
        "id": "bs0RS26tS4MN",
        "outputId": "dcc787b9-99ee-4da8-a1fc-514f3e936cab"
      },
      "execution_count": null,
      "outputs": [
        {
          "output_type": "stream",
          "name": "stdout",
          "text": [
            ">1F05_1|Chains A, B|TRANSALDOLASE|Homo sapiens (9606)\n",
            "MSSSPVKRQRMESALDQLKQFTTVVADTGDFHAIDEYKPQDATTNPSLILAAAQMPAYQELVEEAIAYGRKLGGSQEDQIKNAIDKLFVLFGAEILKKIPGRVSTEVDARLSFDKDAMVARARRLIELYKEAGISKDRILIKLSSTWEGIQAGKELEEQHGIHCNMTLLFSFAQAVACAEAGVTLISPFVGRILDWHVANTDKKSYEPLEDPGVKSVTKIYNYYKKFSYKTIVMGASFRNTGEIKALAGCDFLTISPKLLGELLQDNAKLVPVLSAKAAQASDLEKIHLDEKSFRWLHNEDQMAVEKLSDGIRKFAADAVKLERMLTERMFNAENGK\n",
            "\n"
          ]
        }
      ]
    },
    {
      "cell_type": "code",
      "source": [],
      "metadata": {
        "id": "TXCBExFIZg2o"
      },
      "execution_count": null,
      "outputs": []
    },
    {
      "cell_type": "markdown",
      "source": [
        "### Applied to EF-hand\n",
        "https://upload.wikimedia.org/wikipedia/commons/e/ef/EF-hand-prediction.jpg\n",
        "\n",
        "[DNS]-x-[DNS]-{FLIVWY}-[DNESTG]-[DNQGHRK]-{GP}-[LIVMC]-[DENQSTAGC]-x(2)-[ED]"
      ],
      "metadata": {
        "id": "qYIBmuSIZig2"
      }
    },
    {
      "cell_type": "code",
      "source": [
        "from pathlib import PurePosixPath\n",
        "from rcsbsearchapi.search import SeqMotifQuery, TextQuery\n",
        "#from rcsbsearchapi import rcsb_attributes as attrs\n",
        "\n",
        "# Create terminals for each query\n",
        "q1 = TextQuery('\"HOMO\"')\n",
        "print(\"Found \", q1.count(), \" from hoomans\")\n",
        "\n",
        "\n",
        "# Use SeqMotifQuery class and add parameters\n",
        "prosite_pattern=r\"[DNS]-x-[DNS]-{FLIVWY}-[DNESTG]-[DNQGHRK]-{GP}-[LIVMC]-[DENQSTAGC]-x(2)-[ED]\"\n",
        "q2 = SeqMotifQuery(prosite_pattern,\n",
        "                   pattern_type=\"prosite\",\n",
        "                   sequence_type=\"protein\")\n",
        "# By default, the pattern_type argument is \"simple\" and the sequence_type argument is \"protein\".\n",
        "#q2 = SeqMotifQuery(\"MSSSP\")  # X is used as a \"variable residue\" and can be any amino acid.\n",
        "print(\"Found \", q2.count(), \" w EF-hand\")\n",
        "\n",
        "\n",
        "# Create terminals for each query\n",
        "from rcsbsearchapi.search import TextQuery\n",
        "proteins = [\"Myosin\",\"Titin\",\"Obscurin\",\"Nebulin\",\"Myomesin\"]\n",
        "#proteins = [\"Titin\",\"Obscurin\",\"Nebulin\",\"Myomesin\"]\n",
        "q3 = TextQuery(proteins[0])\n",
        "#q3 = proteins[0]\n",
        "for protein in proteins[1:]:\n",
        "  q3 = q3 | TextQuery(protein)\n",
        "  #q3 += \" | \"+protein\n",
        "\n",
        "print(\"Found \", q3.count(), \" that was among list of protein names\")\n",
        "#[print (x) for x in q3(\"polymer_entity\")]\n",
        "\n",
        "results = q1 & q2 & q3\n",
        "# results(\"polymer_entity\") produces an iterator of IDs with return type - polymer entities\n",
        "print(\"Found \", results.count(), \" that satisfy all conditions\")\n",
        "#for polyid in results(\"polymer_entity\"):\n",
        "#    print(polyid)\n"
      ],
      "metadata": {
        "colab": {
          "base_uri": "https://localhost:8080/"
        },
        "id": "lDcHs768S6mp",
        "outputId": "955b6bc3-5394-460d-b028-3bb0f7462578"
      },
      "execution_count": null,
      "outputs": [
        {
          "output_type": "stream",
          "name": "stdout",
          "text": [
            "Found  137521  from hoomans\n",
            "Found  4678  w EF-hand\n",
            "Found  3649  that was among list of protein names\n",
            "Found  434  that satisfy all conditions\n"
          ]
        }
      ]
    },
    {
      "cell_type": "code",
      "source": [
        "len(ids)"
      ],
      "metadata": {
        "colab": {
          "base_uri": "https://localhost:8080/"
        },
        "id": "L2me-qDT4xFk",
        "outputId": "002ddaf9-150f-4ee4-992c-bc48690ebea2"
      },
      "execution_count": null,
      "outputs": [
        {
          "output_type": "execute_result",
          "data": {
            "text/plain": [
              "434"
            ]
          },
          "metadata": {},
          "execution_count": 80
        }
      ]
    },
    {
      "cell_type": "markdown",
      "source": [
        "Get unique IDs"
      ],
      "metadata": {
        "id": "MZZ8yr7D4xnr"
      }
    },
    {
      "cell_type": "code",
      "source": [
        " # process hits\n",
        "ids = scrape_ids(results)\n",
        "#print(len(ids))\n",
        "# insert the list to the set\n",
        "list_set = set(ids)\n",
        "# convert the set to the list\n",
        "ids = (list(list_set))\n",
        "#print(len(ids))\n",
        "print(ids)\n",
        "len(ids)"
      ],
      "metadata": {
        "colab": {
          "base_uri": "https://localhost:8080/"
        },
        "id": "uUo69IKC3FR_",
        "outputId": "b725d675-8e13-4335-d396-424b1b26e213"
      },
      "execution_count": null,
      "outputs": [
        {
          "output_type": "stream",
          "name": "stdout",
          "text": [
            "['8SIK', '4UMO', '8AHS', '2LQC', '1CTR', '1XFY', '1PK0', '5J03', '6X35', '8J05', '2JZI', '7U9T', '1XFW', '7XNI', '1ZUZ', '2LL7', '1O1B', '8ACT', '6C1G', '4BYF', '8FMM', '8GLV', '6DMW', '8GM5', '6NUF', '8FMP', '1YRU', '7KO7', '7ZRQ', '6X33', '8I7O', '2MLF', '5GGM', '2F3Z', '1O1E', '6NUC', '6YNU', '7B1G', '5DOW', '7KOR', '6JI8', '7XN5', '1K90', '7CR7', '6JRS', '8EP0', '7BF1', '4CFR', '3HR4', '3GP2', '6GDK', '8FMR', '2PQ3', '5DSU', '2KFX', '7BYN', '1IH0', '8GM4', '7SX4', '8J04', '8BD2', '8FMT', '6MUD', '4L79', '5OEO', '1O1D', '7T2Q', '7VUU', '4GOW', '7WJI', '1LVC', '5WBX', '6C1D', '8SIN', '6Y94', '5DBR', '4GJF', '6EEB', '3BYA', '3RV5', '2KNE', '3ZWH', '2JT3', '6ZEG', '7SX3', '5JQA', '6K4K', '6AGI', '8TO0', '8FO6', '6Y4O', '6PAW', '5WC5', '7VVD', '7SVC', '6U3A', '7MIS', '6K7K', '7CR4', '1YRT', '1ZOT', '8OE0', '2VAY', '6GDL', '2W73', '2L7L', '3DVK', '6BUT', '7N6G', '6O5G', '6X32', '7VUT', '7XNL', '1LXF', '8DGH', '8OTZ', '6E2G', '1L7Z', '7SQC', '6HCS', '4BW8', '1WRL', '3LL8', '3SD6', '3EWT', '4JPZ', '1J1D', '1OZS', '2KDH', '7BF2', '5K8Q', '1O1C', '1XFV', '7JGI', '2F2O', '2BE6', '3OXQ', '4IRP', '2LV6', '4M1L', '6Y4P', '7PSZ', '3POK', '1WRK', '6DAF', '5I0I', '6JIU', '3EVV', '3LTQ', '3O78', '4Q2B', '8EOW', '6JV2', '1J7O', '4LZX', '8UXM', '1SK6', '7VUO', '7SC3', '2N8J', '6FEH', '5V02', '2R28', '2Q91', '8FNY', '7NQC', '4EHQ', '6XXF', '7KO5', '1CLL', '7VVH', '6K4L', '1WRZ', '2M55', '4Q57', '7SUP', '5CPV', '5J8H', '8IYJ', '2K0E', '6MC9', '6PLM', '3SUI', '7MIR', '2N27', '7XNN', '1XFX', '7UDT', '2F2P', '1SW8', '7WR3', '8SIM', '8J02', '5WSU', '5SVE', '7SXD', '2X0G', '1MVW', '6MUE', '5WSV', '2HF5', '6JIY', '7UTL', '3SWB', '8J03', '7XN4', '7PU9', '3EVU', '6B8P', '3DVJ', '6YNS', '7NEP', '3KF9', '6XYR', '6N5W', '3J41', '5TBY', '6M7H', '4ORC', '3WLC', '7VNR', '1J1E', '7VNP', '6C1H', '5V03', '6CNM', '8W41', '2V02', '7UTI', '1MXL', '2V01', '4I5L', '6MBA', '6PBX', '7UDU', '2JT0', '2K0F', '7SWI', '2WEL', '5NIN', '3DVE', '7PKS', '7TCI', '1XFZ', '6E2F', '2JT8', '7U0T', '8B6Q', '6SZ5', '6K4R', '8UXL', '6V00', '4Q5U', '2P6B', '2F3Y', '6JLH', '4I5N', '4GJG', '3G43', '2YGG', '2K0J', '2MZP', '3DVM', '8RBX', '1CDL', '7BYL', '7VUS', '8FMS', '3BXK', '3EK7', '1M8Q', '2M0J', '4ETO', '7L8V', '8FMN', '6XY3', '4OVN', '4GJE', '7UA3', '1O1F', '3EWV', '8J01', '7WR4', '4CFQ', '1YR5', '6DAE', '2KUH', '7TZC', '3DTP', '7PPO', '1QX7', '2K61', '6B8L', '4DJC', '2L1R', '2LGF', '6CNN', '7WZS', '2I08', '6K7M', '7UHA', '1AUI', '6KN8', '7YCX', '7UH9', '6B8M', '6FEG', '6DAH', '5TP6', '5V7X', '6UZZ', '6ALE', '1O1A', '1QX5', '2MG5', '6U3B', '8FMO', '1O1G', '1S26', '8J07', '7ZRP', '4UPU', '6U39', '6Y95', '7VNQ', '6V01', '7TCP', '1Y6W', '4DCK', '4OKH', '1NIW', '6MV3', '3B32', '4BW7', '2Y4V', '7BYM', '7VUR', '5COC', '1K93', '4ORA', '1SPY', '1MF8', '6XXX', '4Y99', '2MKP', '6B8N', '3UCT', '7VMB', '1NKF', '1J7P', '3UCY', '1AP4', '1M63', '8PB1', '7L2A', '6K67', '2L98', '3O77', '2KUG', '6U3D', '8BFG', '3UCW', '8IJK', '2N77', '8OE4', '1O19', '7CR3', '6OS4', '2LL6', '5WCL', '8J00', '1XFU', '3SG5', '7SC2', '6DAD', '8DGK', '5VMS', '2N6A', '6NUU', '2MLE', '3J04', '8I7R', '7KON', '7SXC', '5K7L', '7XNK', '2M0K', '6ZBI', '2LNK', '7SWG', '8EP1', '4F0Z', '7UA4', '2KRD', '3SG6', '4V0C', '8G4L', '6HR1', '6B8Q', '4JQ0', '8FMQ', '7B7U', '6PBY', '7KL5', '7PQE', '1IWQ', '6X36', '8W4U', '2N79', '7KO4', '1CDP', '8X43', '1O18', '7WR5', '2N7L', '4KSI', '6CNO', '6KN7', '6S5T', '6K7N', '7XN6', '2KGB', '7F4G', '7SHQ', '4HEX', '2DFS', '4OR9', '3BXL', '8ODZ', '5VLN', '5JTH', '5W88', '2JXL', '2JTZ']\n"
          ]
        },
        {
          "output_type": "execute_result",
          "data": {
            "text/plain": [
              "434"
            ]
          },
          "metadata": {},
          "execution_count": 81
        }
      ]
    },
    {
      "cell_type": "markdown",
      "source": [
        "Grab the fasta sequences"
      ],
      "metadata": {
        "id": "Z_dKfJVS40gD"
      }
    },
    {
      "cell_type": "code",
      "source": [
        "#ids = ids[0:3]\n",
        "seqs=[]\n",
        "for i,id in enumerate(ids):\n",
        "  fasta_seq = fetch_fasta_sequence(id)\n",
        "  seqs.append(fasta_seq)\n",
        "  #print(len(seqs))"
      ],
      "metadata": {
        "colab": {
          "base_uri": "https://localhost:8080/"
        },
        "id": "NRsMtM2Qz1dz",
        "outputId": "cdfa7fa5-5ce6-4ce7-ba78-94c2ef393672"
      },
      "execution_count": null,
      "outputs": [
        {
          "output_type": "stream",
          "name": "stdout",
          "text": [
            "0\n",
            "1\n",
            "2\n",
            "3\n",
            "4\n",
            "5\n",
            "6\n",
            "7\n",
            "8\n",
            "9\n",
            "10\n",
            "11\n",
            "12\n",
            "13\n",
            "14\n",
            "15\n",
            "16\n",
            "17\n",
            "18\n",
            "19\n",
            "20\n",
            "21\n",
            "22\n",
            "23\n",
            "24\n",
            "25\n",
            "26\n",
            "27\n",
            "28\n",
            "29\n",
            "30\n",
            "31\n",
            "32\n",
            "33\n",
            "34\n",
            "35\n",
            "36\n",
            "37\n",
            "38\n",
            "39\n",
            "40\n",
            "41\n",
            "42\n",
            "43\n",
            "44\n",
            "45\n",
            "46\n",
            "47\n",
            "48\n",
            "49\n",
            "50\n",
            "51\n",
            "52\n",
            "53\n",
            "54\n",
            "55\n",
            "56\n",
            "57\n",
            "58\n",
            "59\n",
            "60\n",
            "61\n",
            "62\n",
            "63\n",
            "64\n",
            "65\n",
            "66\n",
            "67\n",
            "68\n",
            "69\n",
            "70\n",
            "71\n",
            "72\n",
            "73\n",
            "74\n",
            "75\n",
            "76\n",
            "77\n",
            "78\n",
            "79\n",
            "80\n",
            "81\n",
            "82\n",
            "83\n",
            "84\n",
            "85\n",
            "86\n",
            "87\n",
            "88\n",
            "89\n",
            "90\n",
            "91\n",
            "92\n",
            "93\n",
            "94\n",
            "95\n",
            "96\n",
            "97\n",
            "98\n",
            "99\n",
            "100\n",
            "101\n",
            "102\n",
            "103\n",
            "104\n",
            "105\n",
            "106\n",
            "107\n",
            "108\n",
            "109\n",
            "110\n",
            "111\n",
            "112\n",
            "113\n",
            "114\n",
            "115\n",
            "116\n",
            "117\n",
            "118\n",
            "119\n",
            "120\n",
            "121\n",
            "122\n",
            "123\n",
            "124\n",
            "125\n",
            "126\n",
            "127\n",
            "128\n",
            "129\n",
            "130\n",
            "131\n",
            "132\n",
            "133\n",
            "134\n",
            "135\n",
            "136\n",
            "137\n",
            "138\n",
            "139\n",
            "140\n",
            "141\n",
            "142\n",
            "143\n",
            "144\n",
            "145\n",
            "146\n",
            "147\n",
            "148\n",
            "149\n",
            "150\n",
            "151\n",
            "152\n",
            "153\n",
            "154\n",
            "155\n",
            "156\n",
            "157\n",
            "158\n",
            "159\n",
            "160\n",
            "161\n",
            "162\n",
            "163\n",
            "164\n",
            "165\n",
            "166\n",
            "167\n",
            "168\n",
            "169\n",
            "170\n",
            "171\n",
            "172\n",
            "173\n",
            "174\n",
            "175\n",
            "176\n",
            "177\n",
            "178\n",
            "179\n",
            "180\n",
            "181\n",
            "182\n",
            "183\n",
            "184\n",
            "185\n",
            "186\n",
            "187\n",
            "188\n",
            "189\n",
            "190\n",
            "191\n",
            "192\n",
            "193\n",
            "194\n",
            "195\n",
            "196\n",
            "197\n",
            "198\n",
            "199\n",
            "200\n",
            "201\n",
            "202\n",
            "203\n",
            "204\n",
            "205\n",
            "206\n",
            "207\n",
            "208\n",
            "209\n",
            "210\n",
            "211\n",
            "212\n",
            "213\n",
            "214\n",
            "215\n",
            "216\n",
            "217\n",
            "218\n",
            "219\n",
            "220\n",
            "221\n",
            "222\n",
            "223\n",
            "224\n",
            "225\n",
            "226\n",
            "227\n",
            "228\n",
            "229\n",
            "230\n",
            "231\n",
            "232\n",
            "233\n",
            "234\n",
            "235\n",
            "236\n",
            "237\n",
            "238\n",
            "239\n",
            "240\n",
            "241\n",
            "242\n",
            "243\n",
            "244\n",
            "245\n",
            "246\n",
            "247\n",
            "248\n",
            "249\n",
            "250\n",
            "251\n",
            "252\n",
            "253\n",
            "254\n",
            "255\n",
            "256\n",
            "257\n",
            "258\n",
            "259\n",
            "260\n",
            "261\n",
            "262\n",
            "263\n",
            "264\n",
            "265\n",
            "266\n",
            "267\n",
            "268\n",
            "269\n",
            "270\n",
            "271\n",
            "272\n",
            "273\n",
            "274\n",
            "275\n",
            "276\n",
            "277\n",
            "278\n",
            "279\n",
            "280\n",
            "281\n",
            "282\n",
            "283\n",
            "284\n",
            "285\n",
            "286\n",
            "287\n",
            "288\n",
            "289\n",
            "290\n",
            "291\n",
            "292\n",
            "293\n",
            "294\n",
            "295\n",
            "296\n",
            "297\n",
            "298\n",
            "299\n",
            "300\n",
            "301\n",
            "302\n",
            "303\n",
            "304\n",
            "305\n",
            "306\n",
            "307\n",
            "308\n",
            "309\n",
            "310\n",
            "311\n",
            "312\n",
            "313\n",
            "314\n",
            "315\n",
            "316\n",
            "317\n",
            "318\n",
            "319\n",
            "320\n",
            "321\n",
            "322\n",
            "323\n",
            "324\n",
            "325\n",
            "326\n",
            "327\n",
            "328\n",
            "329\n",
            "330\n",
            "331\n",
            "332\n",
            "333\n",
            "334\n",
            "335\n",
            "336\n",
            "337\n",
            "338\n",
            "339\n",
            "340\n",
            "341\n",
            "342\n",
            "343\n",
            "344\n",
            "345\n",
            "346\n",
            "347\n",
            "348\n",
            "349\n",
            "350\n",
            "351\n",
            "352\n",
            "353\n",
            "354\n",
            "355\n",
            "356\n",
            "357\n",
            "358\n",
            "359\n",
            "360\n",
            "361\n",
            "362\n",
            "363\n",
            "364\n",
            "365\n",
            "366\n",
            "367\n",
            "368\n",
            "369\n",
            "370\n",
            "371\n",
            "372\n",
            "373\n",
            "374\n",
            "375\n",
            "376\n",
            "377\n",
            "378\n",
            "379\n",
            "380\n",
            "381\n",
            "382\n",
            "383\n",
            "384\n",
            "385\n",
            "386\n",
            "387\n",
            "388\n",
            "389\n",
            "390\n",
            "391\n",
            "392\n",
            "393\n",
            "394\n",
            "395\n",
            "396\n",
            "397\n",
            "398\n",
            "399\n",
            "400\n",
            "401\n",
            "402\n",
            "403\n",
            "404\n",
            "405\n",
            "406\n",
            "407\n",
            "408\n",
            "409\n",
            "410\n",
            "411\n",
            "412\n",
            "413\n",
            "414\n",
            "415\n",
            "416\n",
            "417\n",
            "418\n",
            "419\n",
            "420\n",
            "421\n",
            "422\n",
            "423\n",
            "424\n",
            "425\n",
            "426\n",
            "427\n",
            "428\n",
            "429\n",
            "430\n",
            "431\n",
            "432\n",
            "433\n"
          ]
        }
      ]
    },
    {
      "cell_type": "markdown",
      "source": [
        "Check"
      ],
      "metadata": {
        "id": "D5K-Z27I44OR"
      }
    },
    {
      "cell_type": "code",
      "source": [
        "len(seqs)"
      ],
      "metadata": {
        "colab": {
          "base_uri": "https://localhost:8080/"
        },
        "id": "Lb0LS8qN5mXO",
        "outputId": "772b7012-8df7-4c50-c8a3-c3d45560d0c7"
      },
      "execution_count": null,
      "outputs": [
        {
          "output_type": "execute_result",
          "data": {
            "text/plain": [
              "434"
            ]
          },
          "metadata": {},
          "execution_count": 83
        }
      ]
    },
    {
      "cell_type": "code",
      "source": [
        "for seq in seqs:\n",
        "  if \"myomesin\" in seq.lower():\n",
        "    print(seq )"
      ],
      "metadata": {
        "id": "UtGoQth51XIW"
      },
      "execution_count": null,
      "outputs": []
    },
    {
      "cell_type": "code",
      "source": [
        "import re\n",
        "def words_contained(string, word_list,mode=\"all\"):\n",
        "    lc_word_list = [word.lower() for word in word_list]\n",
        "\n",
        "    # Split the string into words\n",
        "    words_in_string = re.split(\"\\||\\s\", string)\n",
        "    #words_in_string = string.split()\n",
        "    lc_words_in_string = [word.lower() for word in words_in_string]\n",
        "\n",
        "    #print(words_in_string)\n",
        "    # Convert words_in_string to a set for faster lookup\n",
        "    words_set = set(lc_words_in_string)\n",
        "\n",
        "    # Check if all words in word_list are present in words_set\n",
        "    if \"all\" in mode:\n",
        "      for word in lc_word_list:\n",
        "          if word not in words_set:\n",
        "              #print(\"HERE\")\n",
        "              #print(word,words_set)\n",
        "              return False\n",
        "      return True\n",
        "    elif \"any\" in mode:\n",
        "      for word in lc_word_list:\n",
        "          if word in words_set:\n",
        "              #print(\"HERE\")\n",
        "              #print(word,words_set)\n",
        "              return True\n",
        "      return False\n",
        "    else:\n",
        "      raise RuntimeError(\"not understood\")\n",
        "\n",
        "\n",
        "#word_list = ([\"Homo\",\"Troponin\"])\n",
        "all_word_list = ([\"Homo\"])\n",
        "#any_word_list = ([\"Parvalbumin\"])\n",
        "any_word_list = proteins\n",
        "\n",
        "#ids = ids[0:3]\n",
        "filteredSeqs=[]\n",
        "for fasta_seq in seqs:\n",
        "  if words_contained(fasta_seq, all_word_list,mode=\"all\") is False:\n",
        "    continue\n",
        "\n",
        "  elif words_contained(fasta_seq, any_word_list,mode=\"any\") is False:\n",
        "    continue\n",
        "\n",
        "  else:\n",
        "    filteredSeqs.append(fasta_seq)\n",
        "\n",
        "  print(fasta_seq)\n",
        "\n"
      ],
      "metadata": {
        "colab": {
          "base_uri": "https://localhost:8080/"
        },
        "id": "yDzkYR06bGiA",
        "outputId": "9201ada5-3655-4260-9c22-f188f2b46e33"
      },
      "execution_count": null,
      "outputs": [
        {
          "output_type": "stream",
          "name": "stdout",
          "text": [
            ">8ACT_1|Chains A, B|Myosin-7|Homo sapiens (9606)\n",
            "DSEMAVFGAAAPYLRKSEKERLEAQTRPFDLKKDVFVPDDKQEFVKAKIVSREGGKVTAETEYGKTVTVKEDQVMQQNPPKFDKIEDMAMLTFLHEPAVLYNLKDRYGSWMIYTYSGLFCVTVNPYKWLPVYTPEVVAAYRGKKRSEAPPHIFSISDNAYQYMLTDRENQSILITGESGAGKTVNTKRVIQYFAVIAAIGDRSKKDQSPGKGTLEDQIIQANPALEAFGNAKTVRNDNSSRFGKFIRIHFGATGKLASADIETYLLEKSRVIFQLKAERDYHIFYQILSNKKPELLDMLLITNNPYDYAFISQGETTVASIDDAEELMATDNAFDVLGFTSEEKNSMYKLTGAIMHFGNMKFKLKQREEQAEPDGTEEADKSAYLMGLNSADLLKGLCHPRVKVGNEYVTKGQNVQQVIYATGALAKAVYERMFNWMVTRINATLETKQPRQYFIGVLDIAGFEIFDFNSFEQLCINFTNEKLQQFFNHHMFVLEQEEYKKEGIEWTFIDFGMDLQACIDLIEKPMGIMSILEEECMFPKATDMTFKAKLFDNHLGKSANFQKPRNIKGKPEAHFSLIHYAGIVDYNIIGWLQKNKDPLNETVVGLYQKSSLKLLSTLFANYAGADAPIEKGKGKAKKGSSFQTVSALHRENLNKLMTNLRSTHPHFVRCIIPNETKSPGVMDNPLVMHQLRCNGVLEGIRICRKGFPNRILYGDFRQRYRILNPAAIPEGQFIDSRKGAEKLLSSLDIDHNQYKFGHTKVFFKAGLLGLLEEMRDERLSRIITRIQAQSRGVLARMEYKKLLERRDSLLVIQWNIRAFMGVKNWPWMKLYFKIKPLLKSAEREKEMASMKEEFTRLKEALEKSEARRKELEEKMVSLLQEKNDLQLQVQAEQDNLADAEERCD\n",
            ">8ACT_2|Chains C, D|Myosin light chain 3|Homo sapiens (9606)\n",
            "ASKIKIEFTPEQIEEFKEAFMLFDRTPKCEMKITYGQCGDVLRALGQNPTQAEVLRVLGKPRQEELNTKMMDFETFLPMLQHISKNKDTGTYEDFVEGLRVFDKEGNGTVMGAELRHVLATLGERLTEDEVEKLMAGQEDSNGCINYEAFVKHIMSS\n",
            ">8ACT_3|Chains E, F|Myosin regulatory light chain 2, ventricular/cardiac muscle isoform|Homo sapiens (9606)\n",
            "MFEQTQIQEFKEAFTIMDQNRDGFIDKNDLRDTFAALGRVNVKNEEIDEMIKEAPGPINFTVFLTMFGEKLKGADPEETILNAFKVFDPEGKGVLKADYVREMLTTQAERFSKEEVDQMFAAFPPDVTGNLDYKNLVHIITHGE\n",
            "\n",
            ">5JQA_1|Chain A|Calmodulin|Homo sapiens (9606)\n",
            "MADQLTEEQIAEFKEAFSLFDKDGDGTITTKELGTVMRSLGQNPTEAELQDMINEVDADGNGTIDFPEFLTMMARKMKDTDSEEEIREAFRVFDKDGNGYISAAELRHVMTNLGEKLTDEEVDEMIREADIDGDGQVNYEEFVQMMTAK\n",
            ">5JQA_2|Chain B|Myosin light chain kinase, smooth muscle|Homo sapiens (9606)\n",
            "RRKWQKTGNAVRAIGRLSSMX\n",
            "\n",
            ">2LV6_1|Chain A|Calmodulin|Homo sapiens (9606)\n",
            "ADQLTEEQIAEFKEAFSLFDKDGDGTITTKELGTVMRSLGQNPTEAELQDMINEVDADGNGTIDFPEFLTMMARKMKDTDSEEEIREAFRVFDKDGNGFISAAELRHVMTNLGEKLTDEEVDEMIREADIDGDGQVNYEEFVTMMTAK\n",
            ">2LV6_2|Chain B|Myosin light chain kinase 2, skeletal/cardiac muscle|Homo sapiens (9606)\n",
            "KRRWKKNFIAVSAANRFKKISSSGAL\n",
            "\n",
            ">5TBY_1|Chains A, B|Myosin-7|Homo sapiens (9606)\n",
            "MGDSEMAVFGAAAPYLRKSEKERLEAQTRPFDLKKDVFVPDDKQEFVKAKIVSREGGKVTAETEYGKTVTVKEDQVMQQNPPKFDKIEDMAMLTFLHEPAVLYNLKDRYGSWMIYTYSGLFCVTVNPYKWLPVYTPEVVAAYRGKKRSEAPPHIFSISDNAYQYMLTDRENQSILITGESGAGKTVNTKRVIQYFAVIAAIGDRSKKDQSPGKGTLEDQIIQANPALEAFGNAKTVRNDNSSRFGKFIRIHFGATGKLASADIETYLLEKSRVIFQLKAERDYHIFYQILSNKKPELLDMLLITNNPYDYAFISQGETTVASIDDAEELMATDNAFDVLGFTSEEKNSMYKLTGAIMHFGNMKFKLKQREEQAEPDGTEEADKSAYLMGLNSADLLKGLCHPRVKVGNEYVTKGQNVQQVIYATGALAKAVYERMFNWMVTRINATLETKQPRQYFIGVLDIAGFEIFDFNSFEQLCINFTNEKLQQFFNHHMFVLEQEEYKKEGIEWTFIDFGMDLQACIDLIEKPMGIMSILEEECMFPKATDMTFKAKLFDNHLGKSANFQKPRNIKGKPEAHFSLIHYAGIVDYNIIGWLQKNKDPLNETVVGLYQKSSLKLLSTLFANYAGADAPIEKGKGKAKKGSSFQTVSALHRENLNKLMTNLRSTHPHFVRCIIPNETKSPGVMDNPLVMHQLRCNGVLEGIRICRKGFPNRILYGDFRQRYRILNPAAIPEGQFIDSRKGAEKLLSSLDIDHNQYKFGHTKVFFKAGLLGLLEEMRDERLSRIITRIQAQSRGVLARMEYKKLLERRDSLLVIQWNIRAFMGVKNWPWMKLYFKIKPLLKSAEREKEMASMKEEFTRLKEALEKSEARRKELEEKMVSLLQEKNDLQLQVQAEQDNLADAEERCDQLIKNKIQLEAKVKEMNERLEDEEEMNAELTAKKRKLEDECSELKRDIDDLELTLAKVEKEKHATENKVKNLTEEMAGLDEIIAKLTKEKKALQEAHQQALDDLQAEEDKVNTLTKAKVKLEQQVDDLEGSLEQEKKVRMDLERAKRKLEGDLKLTQESIMDLENDKQQLDERLKKKDFELNALNARIEDEQALGSQLQKKLKELQARIEELEEELEAERTARAKVEKLRSDLSRELEEISERLEEAGGATSVQIEMNKKREAEFQKMRRDLEEATLQHEATAAALRKKHADSVAELGEQIDNLQRVKQKLEKEKSEFKLELDDVTSNMEQIIKAKANLEKMCRTLEDQMNEHRSKAEETQRSVNDLTSQRAKLQTENGELSRQLDEKEALISQLTRGKLTYTQQLEDLKRQLEEEVKAKNALAHALQSARHDCDLLREQYEEETEAKAELQRVLSKANSEVAQWRTKYETDAIQRTEELEEAKKKLAQRLQEAEEAVEAVNAKCSSLEKTKHRLQNEIEDLMVDVERSNAAAAALDKKQRNFDKILAEWKQKYEESQSELESSQKEARSLSTELFKLKNAYEESLEHLETFKRENKNLQEEISDLTEQLGSSGKTIHELEKVRKQLEAEKMELQSALEEAEASLEHEEGKILRAQLEFNQIKAEIERKLAEKDEEMEQAKRNHLRVVDSLQTSLDAETRSRNEALRVKKKMEGDLNEMEIQLSHANRMAAEAQKQVKSLQSLLKDTQIQLDDAVRANDDLKENIAIVERRNNLLQAELEELRAVVEQTERSRKLAEQELIETSERVQLLHSQNTSLINQKKKMDADLSQLQTEVEEAVQECRNAEEKAKKAITDAAMMAEELKKEQDTSAHLERMKKNMEQTIKDLQHRLDEAEQIALKGGKKQLQKLEARVRELENELEAEQKRNAESVKGMRKSERRIKELTYQTEEDRKNLLRLQDLVDKLQLKVKAYKRQAEEAEEQANTNLSKFRKVQHELDEAEERADIAESQVNKLRAKSRDIGTKGLNEE\n",
            ">5TBY_2|Chains C, D|Myosin light chain 3|Homo sapiens (9606)\n",
            "MAPKKPEPKKDDAKAAPKAAPAPAPPPEPERPKEVEFDASKIKIEFTPEQIEEFKEAFMLFDRTPKCEMKITYGQCGDVLRALGQNPTQAEVLRVLGKPRQEELNTKMMDFETFLPMLQHISKNKDTGTYEDFVEGLRVFDKEGNGTVMGAELRHVLATLGERLTEDEVEKLMAGQEDSNGCINYEAFVKHIMSS\n",
            ">5TBY_3|Chains E, F|Myosin regulatory light chain 2, ventricular/cardiac muscle isoform|Homo sapiens (9606)\n",
            "MAPKKAKKRAGGANSNVFSMFEQTQIQEFKEAFTIMDQNRDGFIDKNDLRDTFAALGRVNVKNEEIDEMIKEAPGPINFTVFLTMFGEKLKGADPEETILNAFKVFDPEGKGVLKADYVREMLTTQAERFSKEEVDQMFAAFPPDVTGNLDYKNLVHIITHGEEKD\n",
            "\n",
            ">2K0F_1|Chain A|calmodulin|Homo sapiens (9606)\n",
            "ADQLTEEQIAEFKEAFSLFDKDGDGTITTKELGTVMRSLGQNPTEAELQDMINEVDADGNGTIDFPEFLTMMARKMKDTDSEEEIREAFRVFDKDGNGYISAAELRHVMTNLGEKLTDEEVDEMIREADIDGDGQVNYEEFVQMMTAK\n",
            ">2K0F_2|Chain B|19-mer peptide from Myosin light chain kinase|null\n",
            "RRKWQKTGHAVRAIGRLSS\n",
            "\n",
            ">2LNK_1|Chain A[auth C]|Myosin heavy chain, non-muscle IIa|Homo sapiens (9606)\n",
            "QRELEDATETADAMNREVSSLKNKLRRGDLPFVVPRRMA\n",
            ">2LNK_2|Chains B[auth A], C[auth B]|Protein S100-A4|Homo sapiens (9606)\n",
            "MRGSHHHHHHGSMACPLEKALDVMVSTFHKYSGKEGDKFKLNKSELKELLTRELPSFLGKRTDEAAFQKLMSNLDSNRDNEVDFQEYCVFLSCIAMMCNEFFEGFPDKQPRKK\n",
            "\n",
            ">8G4L_1|Chains A, AB[auth AA], AD[auth AB], BB[auth AH], BD[auth AI], B[auth AG], CA[auth AJ], CB[auth AK], DA[auth AL], DB[auth AM], EB[auth AO], EC[auth AP], E[auth AN], FB[auth AR], FC[auth AS], F[auth AQ], GB[auth AU], GD[auth AV], G[auth AT], HB[auth AX], HD[auth AY], H[auth AW], IA[auth B], IB[auth BA], IC[auth BB], I[auth AZ], JA[auth BH], JB[auth BI], JC[auth BJ], J[auth BG], KB[auth BL], KC[auth BM], K[auth BK], LB[auth BO], LC[auth BP], L[auth BN], MB[auth BR], MC[auth BS], MD[auth BT], M[auth BQ], NC[auth BV], ND[auth BW], N[auth BU], OC[auth BY], O[auth BX], PA[auth G], PC[auth H], P[auth BZ], QA[auth J], QC[auth K], Q[auth I], RB[auth M], RC[auth N], R[auth L], SB[auth P], SC[auth Q], S[auth O], TA[auth S], TC[auth T], T[auth R], U, UA[auth V], UC[auth W], VA[auth Y], VC[auth Z], V[auth X], WA[auth af], WC[auth ak], W[auth ae], XA[auth be], XB[auth bf], XC[auth bk], X[auth al], YA[auth bl], YB[auth e], YC[auth f], ZA[auth k], ZC[auth l]|Myosin-7|Homo sapiens (9606)\n",
            "MGDSEMAVFGAAAPYLRKSEKERLEAQTRPFDLKKDVFVPDDKQEFVKAKIVSREGGKVTAETEYGKTVTVKEDQVMQQNPPKFDKIEDMAMLTFLHEPAVLYNLKDRYGSWMIYTYSGLFCVTVNPYKWLPVYTPEVVAAYRGKKRSEAPPHIFSISDNAYQYMLTDRENQSILITGESGAGKTVNTKRVIQYFAVIAAIGDRSKKDQSPGKGTLEDQIIQANPALEAFGNAKTVRNDNSSRFGKFIRIHFGATGKLASADIETYLLEKSRVIFQLKAERDYHIFYQILSNKKPELLDMLLITNNPYDYAFISQGETTVASIDDAEELMATDNAFDVLGFTSEEKNSMYKLTGAIMHFGNMKFKLKQREEQAEPDGTEEADKSAYLMGLNSADLLKGLCHPRVKVGNEYVTKGQNVQQVIYATGALAKAVYERMFNWMVTRINATLETKQPRQYFIGVLDIAGFEIFDFNSFEQLCINFTNEKLQQFFNHHMFVLEQEEYKKEGIEWTFIDFGMDLQACIDLIEKPMGIMSILEEECMFPKATDMTFKAKLFDNHLGKSANFQKPRNIKGKPEAHFSLIHYAGIVDYNIIGWLQKNKDPLNETVVGLYQKSSLKLLSTLFANYAGADAPIEKGKGKAKKGSSFQTVSALHRENLNKLMTNLRSTHPHFVRCIIPNETKSPGVMDNPLVMHQLRCNGVLEGIRICRKGFPNRILYGDFRQRYRILNPAAIPEGQFIDSRKGAEKLLSSLDIDHNQYKFGHTKVFFKAGLLGLLEEMRDERLSRIITRIQAQSRGVLARMEYKKLLERRDSLLVIQWNIRAFMGVKNWPWMKLYFKIKPLLKSAEREKEMASMKEEFTRLKEALEKSEARRKELEEKMVSLLQEKNDLQLQVQAEQDNLADAEERCDQLIKNKIQLEAKVKEMNERLEDEEEMNAELTAKKRKLEDECSELKRDIDDLELTLAKVEKEKHATENKVKNLTEEMAGLDEIIAKLTKEKKALQEAHQQALDDLQAEEDKVNTLTKAKVKLEQQVDDLEGSLEQEKKVRMDLERAKRKLEGDLKLTQESIMDLENDKQQLDERLKKKDFELNALNARIEDEQALGSQLQKKLKELQARIEELEEELEAERTARAKVEKLRSDLSRELEEISERLEEAGGATSVQIEMNKKREAEFQKMRRDLEEATLQHEATAAALRKKHADSVAELGEQIDNLQRVKQKLEKEKSEFKLELDDVTSNMEQIIKAKANLEKMCRTLEDQMNEHRSKAEETQRSVNDLTSQRAKLQTENGELSRQLDEKEALISQLTRGKLTYTQQLEDLKRQLEEEVKAKNALAHALQSARHDCDLLREQYEEETEAKAELQRVLSKANSEVAQWRTKYETDAIQRTEELEEAKKKLAQRLQEAEEAVEAVNAKCSSLEKTKHRLQNEIEDLMVDVERSNAAAAALDKKQRNFDKILAEWKQKYEESQSELESSQKEARSLSTELFKLKNAYEESLEHLETFKRENKNLQEEISDLTEQLGSSGKTIHELEKVRKQLEAEKMELQSALEEAEASLEHEEGKILRAQLEFNQIKAEIERKLAEKDEEMEQAKRNHLRVVDSLQTSLDAETRSRNEALRVKKKMEGDLNEMEIQLSHANRMAAEAQKQVKSLQSLLKDTQIQLDDAVRANDDLKENIAIVERRNNLLQAELEELRAVVEQTERSRKLAEQELIETSERVQLLHSQNTSLINQKKKMDADLSQLQTEVEEAVQECRNAEEKAKKAITDAAMMAEELKKEQDTSAHLERMKKNMEQTIKDLQHRLDEAEQIALKGGKKQLQKLEARVRELENELEAEQKRNAESVKGMRKSERRIKELTYQTEEDRKNLLRLQDLVDKLQLKVKAYKRQAEEAEEQANTNLSKFRKVQHELDEAEERADIAESQVNKLRAKSRDIGTKGLNEE\n",
            ">8G4L_2|Chains CD[auth AF], C[auth AE], DD[auth BF], D[auth BE], EA[auth E], FA[auth F], GC[auth a], HC[auth aa], ID[auth ab], JD[auth ag], NB[auth ah], OB[auth b], RA[auth ba], SA[auth bb], TB[auth bg], UB[auth bh], Y[auth g], Z[auth h]|Myosin light chain 3|Homo sapiens (9606)\n",
            "MAPKKPEPKKDDAKAAPKAAPAPAPPPEPERPKEVEFDASKIKIEFTPEQIEEFKEAFMLFDRTPKCEMKITYGQCGDVLRALGQNPTQAEVLRVLGKPRQEELNTKMMDFETFLPMLQHISKNKDTGTYEDFVEGLRVFDKEGNGTVMGAELRHVLATLGERLTEDEVEKLMAGQEDSNGCINYEAFVKHIMSS\n",
            ">8G4L_3|Chains AA[auth ac], BA[auth ad], CC[auth ai], DC[auth aj], ED[auth aq], FD[auth ar], GA[auth bc], HA[auth bd], KD[auth bi], LD[auth bj], NA[auth bq], OA[auth br], PB[auth c], QB[auth d], RD[auth i], SD[auth j], VB[auth q], WB[auth r]|Myosin regulatory light chain 2, ventricular/cardiac muscle isoform|Homo sapiens (9606)\n",
            "MAPKKAKKRAGGANSNVFSMFEQTQIQEFKEAFTIMDQNRDGFIDKNDLRDTFAALGRVNVKNEEIDEMIKEAPGPINFTVFLTMFGEKLKGADPEETILNAFKVFDPEGKGVLKADYVREMLTTQAERFSKEEVDQMFAAFPPDVTGNLDYKNLVHIITHGEEKD\n",
            ">8G4L_4|Chains AC[auth am], KA[auth an], LA[auth bm], OD[auth bn], PD[auth m], ZB[auth n]|Titin|Homo sapiens (9606)\n",
            "PPEIELDADLRKVVTIRACCTLRLFVPIKGRPAPEVKWARDHGESLDKASIESTSSYTLLIVGNVNRFDSGKYILTVENSSGSKSAFVNVRVLDTPGPPQDLKVKEVTKTSVTLTWDPPLLDGGSKIKNYIVEKRESTRKAYSTVATNCHKTSWKVDQLQEGCSYYFRVLAENEYGIGLPAETAESVKASERPLPPGKITLMDVTRNSVSLSWEKPEHDGGSRILGYIVEMQTKGSDKWATCATVKVTEATITGLIQGEEYSFRVSAQNEKGISDPRQLSVPVIAKDLVIPPAFKLLFNTFTVLAGEDLKVDVPFIGRPTPAVTWHKDNVPLKQTTRVNAESTENNSLLTIKDACREDVGHYVVKLTNSAGEAIETLNVIVLDKPGPPTGPVKMDEVTADSITLSWGPPKYDGGSSINNYIVEKRDTSTTTWQIVSATVARTTIKACRLKTGCEYQFRIAAENRYGKSTYLNSEPTVAQYPFKVPGPPGTPVVTLSSRDSMEVQWNEPISDGGSRVIGYHLERKERNSILWVKLNKTPIPQTKFKTTGLEEGVEYEFRVSAENIVGIGKPSKVSECYVARDPCDPPGRPEAIIVTRNSVTLQWKKPTYDGGSKITGYIVEKKELPEGRWMKASFTNIIDTHFEVTGLVEDHRYEFRVIARNAAGVFSEPSESTGAITARDEVDPPRISMDPKYKDTIVVHAGESFKVDADIYGKPIPTIQWIKGDQELSNTARLEIKSTDFATSLSVKDAVRVDSGNYILKAKNVAGERSVTVNVKVLDRPGPPEGPVVISGVTAEKCTLAWKPPLQDGGSDIINYIVERRETSRLVWTVVDANVQTLSCKVTKLLEGNEYTFRIMAVNKYGVGEPLESEPVVAKNPFVVPDAPKAPEVTTVTKDSMIVVWERPASDGGSEILGYVLEKRDKEGIRWTRCHKRLIGELRLRVTGLIENHDYEFRVSAENAAGLSEPSPPSAYQKACDPIYKPGPPNNPKVIDITRSSVFLSWSKPIYDGGCEIQGYIVEKCDVSVGEWTMCTPPTGINKTNIEVEKLLEKHEYNFRICAINKAGVGEHADVPGPIIVEEKLEAP\n",
            ">8G4L_5|Chains BC[auth ao], MA[auth bo], QD[auth o]|Myosin-binding protein C, cardiac-type|Homo sapiens (9606)\n",
            "MPEPGKKPVSAFSKKPRSVEVAAGSPAVFEAETERAGVKVRWQRGGSDISASNKYGLATEGTRHTLTVREVGPADQGSYAVIAGSSKVKFDLKVIEAEKAEPMLAPAPAPAEATGAPGEAPAPAAELGESAPSPKGSSSAALNGPTPGAPDDPIGLFVMRPQDGEVTVGGSITFSARVAGASLLKPPVVKWFKGKWVDLSSKVGQHLQLHDSYDRASKVYLFELHITDAQPAFTGSYRCEVSTKDKFDCSNFNLTVHEAMGTGDLDLLSAFRRTSLAGGGRRISDSHEDTGILDFSSLLKKRDSFRTPRDSKLEAPAEEDVWEILRQAPPSEYERIAFQYGVTDLRGMLKRLKGMRRDEKKSTAFQKKLEPAYQVSKGHKIRLTVELADHDAEVKWLKNGQEIQMSGSKYIFESIGAKRTLTISQCSLADDAAYQCVVGGEKCSTELFVKEPPVLITRPLEDQLVMVGQRVEFECEVSEEGAQVKWLKDGVELTREETFKYRFKKDGQRHHLIINEAMLEDAGHYALCTSGGQALAELIVQEKKLEVYQSIADLMVGAKDQAVFKCEVSDENVRGVWLKNGKELVPDSRIKVSHIGRVHKLTIDDVTPADEADYSFVPEGFACNLSAKLHFMEVKIDFVPRQEPPKIHLDCPGRIPDTIVVVAGNKLRLDVPISGDPAPTVIWQKAITQGNKAPARPAPDAPEDTGDSDEWVFDKKLLCETEGRVRVETTKDRSIFTVEGAEKEDEGVYTVTVKNPVGEDQVNLTVKVIDVPDAPAAPKISNVGEDSCTVQWEPPAYDGGQPILGYILERKKKKSYRWMRLNFDLIQELSHEARRMIEGVVYEMRVYAVNAIGMSRPSPASQPFMPIGPPSEPTHLAVEDVSDTTVSLKWRPPERVGAGGLDGYSVEYCPEGCSEWVAALQGLTEHTSILVKDLPTGARLLFRVRAHNMAGPGAPVTTTEPVTVQEILQRPRLQLPRHLRQTIQKKVGEPVNLLIPFQGKPRPQVTWTKEGQPLAGEEVSIRNSPTDTILFIRAARRVHSGTYQVTVRIENMEDKATLVLQVVDKPSPPQDLRVTDAWGLNVALEWKPPQDVGNTELWGYTVQKADKKTMEWFTVLEHYRRTHCVVPELIIGNGYYFRVFSQNMVGFSDRAATTKEPVFIPRPGITYEPPNYKALDFSEAPSFTQPLVNRSVIAGYTAMLCCAVRGSPKPKISWFKNGLDLGEDARFRMFSKQGVLTLEIRKPCPFDGGIYVCRATNLQGEARCECRLEVRVPQ\n",
            "\n",
            ">5JTH_1|Chain A|Calmodulin|Homo sapiens (9606)\n",
            "MADQLTEEQIAEFKEAFSLFDKDGDGTITTKELGTVMRSLGQNPTEAELQDMINEVDADGNGTIDFPAFLTMMARKMKDTDSEEEIREAFRVFDKDGNGYISAAELRHVMTNLGEKLTDEEVDEMIREADIDGDGQVNYEEFVQMMTAK\n",
            ">5JTH_2|Chain B|Myosin light chain kinase, smooth muscle|Homo sapiens (9606)\n",
            "XRRKWQKTGNAVRAIGRLSSMX\n",
            "\n"
          ]
        }
      ]
    },
    {
      "cell_type": "code",
      "source": [
        " len( filteredSeqs )"
      ],
      "metadata": {
        "colab": {
          "base_uri": "https://localhost:8080/"
        },
        "id": "zrafqFhVwO2i",
        "outputId": "0765f355-9406-4c55-f4eb-e83ebbc990cb"
      },
      "execution_count": null,
      "outputs": [
        {
          "output_type": "execute_result",
          "data": {
            "text/plain": [
              "8"
            ]
          },
          "metadata": {},
          "execution_count": 118
        }
      ]
    },
    {
      "cell_type": "code",
      "source": [
        "from Bio import PDB\n",
        "\n",
        "def get_protein_name_from_pdb(pdb_id):\n",
        "    # Create a PDBParser object\n",
        "    parser = PDB.PDBParser(QUIET=True)\n",
        "\n",
        "    # Fetch the structure from the PDB database\n",
        "    # https://files.rcsb.org/download/8G4L.cif\n",
        "    structure = parser.get_structure(pdb_id, f'https://files.rcsb.org/download/8G4L.cif')#'https://files.rcsb.org/download/{pdb_id}.cif')\n",
        "\n",
        "    # Get the first model (assuming there's only one model)\n",
        "    model = structure[0]\n",
        "\n",
        "    # Get the first chain (assuming there's only one chain)\n",
        "    chain = model[0]\n",
        "\n",
        "    # Get the protein name from the first residue in the chain\n",
        "    protein_name = chain.get_residues().__next__().get_full_id()[3][1]\n",
        "\n",
        "    return protein_name\n",
        "\n",
        "# Example PDB ID\n",
        "pdb_id = \"8G4L\"\n",
        "\n",
        "# Get the protein name from the PDB ID\n",
        "protein_name = get_protein_name_from_pdb(pdb_id)\n",
        "print(f\"Protein Name for PDB ID {pdb_id}: {protein_name}\")"
      ],
      "metadata": {
        "colab": {
          "base_uri": "https://localhost:8080/",
          "height": 347
        },
        "id": "nmiCygal-IZm",
        "outputId": "a56f84ad-5be4-4484-9c7e-3fdf9d514215"
      },
      "execution_count": null,
      "outputs": [
        {
          "output_type": "error",
          "ename": "FileNotFoundError",
          "evalue": "[Errno 2] No such file or directory: 'https://files.rcsb.org/download/8G4L.cif'",
          "traceback": [
            "\u001b[0;31m---------------------------------------------------------------------------\u001b[0m",
            "\u001b[0;31mFileNotFoundError\u001b[0m                         Traceback (most recent call last)",
            "\u001b[0;32m<ipython-input-248-4246e5f538d0>\u001b[0m in \u001b[0;36m<cell line: 26>\u001b[0;34m()\u001b[0m\n\u001b[1;32m     24\u001b[0m \u001b[0;34m\u001b[0m\u001b[0m\n\u001b[1;32m     25\u001b[0m \u001b[0;31m# Get the protein name from the PDB ID\u001b[0m\u001b[0;34m\u001b[0m\u001b[0;34m\u001b[0m\u001b[0m\n\u001b[0;32m---> 26\u001b[0;31m \u001b[0mprotein_name\u001b[0m \u001b[0;34m=\u001b[0m \u001b[0mget_protein_name_from_pdb\u001b[0m\u001b[0;34m(\u001b[0m\u001b[0mpdb_id\u001b[0m\u001b[0;34m)\u001b[0m\u001b[0;34m\u001b[0m\u001b[0;34m\u001b[0m\u001b[0m\n\u001b[0m\u001b[1;32m     27\u001b[0m \u001b[0mprint\u001b[0m\u001b[0;34m(\u001b[0m\u001b[0;34mf\"Protein Name for PDB ID {pdb_id}: {protein_name}\"\u001b[0m\u001b[0;34m)\u001b[0m\u001b[0;34m\u001b[0m\u001b[0;34m\u001b[0m\u001b[0m\n",
            "\u001b[0;32m<ipython-input-248-4246e5f538d0>\u001b[0m in \u001b[0;36mget_protein_name_from_pdb\u001b[0;34m(pdb_id)\u001b[0m\n\u001b[1;32m      7\u001b[0m     \u001b[0;31m# Fetch the structure from the PDB database\u001b[0m\u001b[0;34m\u001b[0m\u001b[0;34m\u001b[0m\u001b[0m\n\u001b[1;32m      8\u001b[0m     \u001b[0;31m# https://files.rcsb.org/download/8G4L.cif\u001b[0m\u001b[0;34m\u001b[0m\u001b[0;34m\u001b[0m\u001b[0m\n\u001b[0;32m----> 9\u001b[0;31m     \u001b[0mstructure\u001b[0m \u001b[0;34m=\u001b[0m \u001b[0mparser\u001b[0m\u001b[0;34m.\u001b[0m\u001b[0mget_structure\u001b[0m\u001b[0;34m(\u001b[0m\u001b[0mpdb_id\u001b[0m\u001b[0;34m,\u001b[0m \u001b[0;34mf'https://files.rcsb.org/download/8G4L.cif'\u001b[0m\u001b[0;34m)\u001b[0m\u001b[0;31m#'https://files.rcsb.org/download/{pdb_id}.cif')\u001b[0m\u001b[0;34m\u001b[0m\u001b[0;34m\u001b[0m\u001b[0m\n\u001b[0m\u001b[1;32m     10\u001b[0m \u001b[0;34m\u001b[0m\u001b[0m\n\u001b[1;32m     11\u001b[0m     \u001b[0;31m# Get the first model (assuming there's only one model)\u001b[0m\u001b[0;34m\u001b[0m\u001b[0;34m\u001b[0m\u001b[0m\n",
            "\u001b[0;32m/usr/local/lib/python3.10/dist-packages/Bio/PDB/PDBParser.py\u001b[0m in \u001b[0;36mget_structure\u001b[0;34m(self, id, file)\u001b[0m\n\u001b[1;32m     87\u001b[0m             \u001b[0mself\u001b[0m\u001b[0;34m.\u001b[0m\u001b[0mstructure_builder\u001b[0m\u001b[0;34m.\u001b[0m\u001b[0minit_structure\u001b[0m\u001b[0;34m(\u001b[0m\u001b[0mid\u001b[0m\u001b[0;34m)\u001b[0m\u001b[0;34m\u001b[0m\u001b[0;34m\u001b[0m\u001b[0m\n\u001b[1;32m     88\u001b[0m \u001b[0;34m\u001b[0m\u001b[0m\n\u001b[0;32m---> 89\u001b[0;31m             \u001b[0;32mwith\u001b[0m \u001b[0mas_handle\u001b[0m\u001b[0;34m(\u001b[0m\u001b[0mfile\u001b[0m\u001b[0;34m)\u001b[0m \u001b[0;32mas\u001b[0m \u001b[0mhandle\u001b[0m\u001b[0;34m:\u001b[0m\u001b[0;34m\u001b[0m\u001b[0;34m\u001b[0m\u001b[0m\n\u001b[0m\u001b[1;32m     90\u001b[0m                 \u001b[0mlines\u001b[0m \u001b[0;34m=\u001b[0m \u001b[0mhandle\u001b[0m\u001b[0;34m.\u001b[0m\u001b[0mreadlines\u001b[0m\u001b[0;34m(\u001b[0m\u001b[0;34m)\u001b[0m\u001b[0;34m\u001b[0m\u001b[0;34m\u001b[0m\u001b[0m\n\u001b[1;32m     91\u001b[0m                 \u001b[0;32mif\u001b[0m \u001b[0;32mnot\u001b[0m \u001b[0mlines\u001b[0m\u001b[0;34m:\u001b[0m\u001b[0;34m\u001b[0m\u001b[0;34m\u001b[0m\u001b[0m\n",
            "\u001b[0;32m/usr/lib/python3.10/contextlib.py\u001b[0m in \u001b[0;36m__enter__\u001b[0;34m(self)\u001b[0m\n\u001b[1;32m    133\u001b[0m         \u001b[0;32mdel\u001b[0m \u001b[0mself\u001b[0m\u001b[0;34m.\u001b[0m\u001b[0margs\u001b[0m\u001b[0;34m,\u001b[0m \u001b[0mself\u001b[0m\u001b[0;34m.\u001b[0m\u001b[0mkwds\u001b[0m\u001b[0;34m,\u001b[0m \u001b[0mself\u001b[0m\u001b[0;34m.\u001b[0m\u001b[0mfunc\u001b[0m\u001b[0;34m\u001b[0m\u001b[0;34m\u001b[0m\u001b[0m\n\u001b[1;32m    134\u001b[0m         \u001b[0;32mtry\u001b[0m\u001b[0;34m:\u001b[0m\u001b[0;34m\u001b[0m\u001b[0;34m\u001b[0m\u001b[0m\n\u001b[0;32m--> 135\u001b[0;31m             \u001b[0;32mreturn\u001b[0m \u001b[0mnext\u001b[0m\u001b[0;34m(\u001b[0m\u001b[0mself\u001b[0m\u001b[0;34m.\u001b[0m\u001b[0mgen\u001b[0m\u001b[0;34m)\u001b[0m\u001b[0;34m\u001b[0m\u001b[0;34m\u001b[0m\u001b[0m\n\u001b[0m\u001b[1;32m    136\u001b[0m         \u001b[0;32mexcept\u001b[0m \u001b[0mStopIteration\u001b[0m\u001b[0;34m:\u001b[0m\u001b[0;34m\u001b[0m\u001b[0;34m\u001b[0m\u001b[0m\n\u001b[1;32m    137\u001b[0m             \u001b[0;32mraise\u001b[0m \u001b[0mRuntimeError\u001b[0m\u001b[0;34m(\u001b[0m\u001b[0;34m\"generator didn't yield\"\u001b[0m\u001b[0;34m)\u001b[0m \u001b[0;32mfrom\u001b[0m \u001b[0;32mNone\u001b[0m\u001b[0;34m\u001b[0m\u001b[0;34m\u001b[0m\u001b[0m\n",
            "\u001b[0;32m/usr/local/lib/python3.10/dist-packages/Bio/File.py\u001b[0m in \u001b[0;36mas_handle\u001b[0;34m(handleish, mode, **kwargs)\u001b[0m\n\u001b[1;32m     70\u001b[0m     \"\"\"\n\u001b[1;32m     71\u001b[0m     \u001b[0;32mtry\u001b[0m\u001b[0;34m:\u001b[0m\u001b[0;34m\u001b[0m\u001b[0;34m\u001b[0m\u001b[0m\n\u001b[0;32m---> 72\u001b[0;31m         \u001b[0;32mwith\u001b[0m \u001b[0mopen\u001b[0m\u001b[0;34m(\u001b[0m\u001b[0mhandleish\u001b[0m\u001b[0;34m,\u001b[0m \u001b[0mmode\u001b[0m\u001b[0;34m,\u001b[0m \u001b[0;34m**\u001b[0m\u001b[0mkwargs\u001b[0m\u001b[0;34m)\u001b[0m \u001b[0;32mas\u001b[0m \u001b[0mfp\u001b[0m\u001b[0;34m:\u001b[0m\u001b[0;34m\u001b[0m\u001b[0;34m\u001b[0m\u001b[0m\n\u001b[0m\u001b[1;32m     73\u001b[0m             \u001b[0;32myield\u001b[0m \u001b[0mfp\u001b[0m\u001b[0;34m\u001b[0m\u001b[0;34m\u001b[0m\u001b[0m\n\u001b[1;32m     74\u001b[0m     \u001b[0;32mexcept\u001b[0m \u001b[0mTypeError\u001b[0m\u001b[0;34m:\u001b[0m\u001b[0;34m\u001b[0m\u001b[0;34m\u001b[0m\u001b[0m\n",
            "\u001b[0;31mFileNotFoundError\u001b[0m: [Errno 2] No such file or directory: 'https://files.rcsb.org/download/8G4L.cif'"
          ]
        }
      ]
    },
    {
      "cell_type": "code",
      "source": [
        "https://files.rcsb.org/download/8G4L.cif"
      ],
      "metadata": {
        "id": "PXrpzIjWQ_Wt"
      },
      "execution_count": null,
      "outputs": []
    },
    {
      "cell_type": "code",
      "source": [
        "from Bio import SeqIO\n",
        "import re\n",
        "\n",
        "\n",
        "def PStoRE(PrositePattern):\n",
        "    rePattern = PrositePattern\n",
        "    rePattern = rePattern.replace(' - ','')\n",
        "    rePattern = rePattern.replace('-','')\n",
        "    rePattern = rePattern.replace('x','.')\n",
        "    rePattern = rePattern.replace('{','[^')\n",
        "    rePattern = rePattern.replace('}',']')\n",
        "    rePattern = rePattern.replace('(','{')\n",
        "    rePattern = rePattern.replace(')','}')\n",
        "    return rePattern\n",
        "\n",
        "\n",
        "\n",
        "def search_prosite(pattern, sequence):\n",
        "    #sequence = \"DODRDGRLDGGE\"\n",
        "    g= PStoRE(pattern)\n",
        "    PS00198compiled = re.compile(g)\n",
        "\n",
        "    positions = PS00198compiled.findall(sequence)\n",
        "    #matches = re.finditer(pattern, sequence)\n",
        "    #positions = [match.start() for match in matches]\n",
        "    return positions\n",
        "\n",
        "\n",
        "def find_seq(pattern,fasta_string,verbose=True):\n",
        "  # Parse the FASTA string\n",
        "  #print(pattern)\n",
        "  from io import StringIO\n",
        "  records = SeqIO.parse(StringIO(fasta_string), \"fasta\")\n",
        "\n",
        "  # Search for the PROSITE pattern in each sequence\n",
        "  hits=0\n",
        "  for record in records:\n",
        "      sequence = str(record.seq)\n",
        "      #print(sequence)\n",
        "      # hack w known EF hand\n",
        "      #sequence = \"DODRDGRLDGGE\"\n",
        "      positions = search_prosite(pattern, sequence)\n",
        "      if positions:\n",
        "          hits+=1\n",
        "          #help(record)\n",
        "          print(record.description)\n",
        "          print(f\"Pattern found in sequence {record.id} at positions: {positions}\")\n",
        "      else:\n",
        "          if verbose:\n",
        "            print(f\"Pattern not found in sequence {record.id}\")\n",
        "  return hits\n",
        "\n",
        "\n",
        "def Debug():\n",
        "  \"\"\"\n",
        "  Test of sequence parser\n",
        "  \"\"\"\n",
        "  daSeq=\"\"\"\n",
        ">5JTH_1|Chain A|Calmodulin|Homo sapiens (9606)\n",
        "MADQLTEEQIAEFKEAFSLFDKDGDGTITTKELGTVMRSLGQNPTEAELQDMINEVDADGNGTIDFPAFLTMMARKMKDTDSEEEIREAFRVFDKDGNGYISAAELRHVMTNLGEKLTDEEVDEMIREADIDGDGQVNYEEFVQMMTAK\n",
        "  \"\"\"\n",
        "  efPattern=r\"[DNS]-x-[DNS]-{FLIVWY}-[DNESTG]-[DNQGHRK]-{GP}-[LIVMC]-[DENQSTAGC]-x(2)-[ED]\"\n",
        "  #pattern=r\"casdsdA\"\n",
        "  out = find_seq(efPattern,daSeq)\n",
        "  print(out)\n",
        "\n",
        "if 1:\n",
        "  Debug()\n"
      ],
      "metadata": {
        "colab": {
          "base_uri": "https://localhost:8080/"
        },
        "id": "CZYP1LR8zB6i",
        "outputId": "80146a4c-f76f-453d-d3cc-c090f445193d"
      },
      "execution_count": null,
      "outputs": [
        {
          "output_type": "stream",
          "name": "stdout",
          "text": [
            "5JTH_1|Chain A|Calmodulin|Homo sapiens (9606)\n",
            "Pattern found in sequence 5JTH_1|Chain at positions: ['DKDGDGTITTKE', 'DKDGNGYISAAE', 'DIDGDGQVNYEE']\n",
            "1\n"
          ]
        }
      ]
    },
    {
      "cell_type": "code",
      "source": [
        "def GetStructName(pdbCode):\n",
        "  data = requests.get(f\"https://data.rcsb.org/rest/v1/core/entry/{pdbCode}\")\n",
        "  result = data.json()\n",
        "  return result[\"struct\"]"
      ],
      "metadata": {
        "id": "cW4kqZ1OSr3H"
      },
      "execution_count": null,
      "outputs": []
    },
    {
      "cell_type": "code",
      "source": [
        "for filteredSeq in filteredSeqs:\n",
        "  name = filteredSeq[1:5]\n",
        "  print(name, \" \", GetStructName(name)['title'] )\n",
        "  find_seq(prosite_pattern,filteredSeq,verbose=False)\n",
        "  print(\"\\n\")"
      ],
      "metadata": {
        "colab": {
          "base_uri": "https://localhost:8080/"
        },
        "id": "E5zUbAcN7K0z",
        "outputId": "8692e1b4-ba2d-41ee-f77a-c7707b2e7343"
      },
      "execution_count": null,
      "outputs": [
        {
          "output_type": "stream",
          "name": "stdout",
          "text": [
            "8ACT   structure of the human beta-cardiac myosin folded-back off state\n",
            "8ACT_3|Chains E, F|Myosin regulatory light chain 2, ventricular/cardiac muscle isoform|Homo sapiens (9606)\n",
            "Pattern found in sequence 8ACT_3|Chains at positions: ['DQNRDGFIDKND']\n",
            "\n",
            "\n",
            "5JQA   CaM:RM20 complex\n",
            "5JQA_1|Chain A|Calmodulin|Homo sapiens (9606)\n",
            "Pattern found in sequence 5JQA_1|Chain at positions: ['DKDGDGTITTKE', 'DADGNGTIDFPE', 'DKDGNGYISAAE', 'DIDGDGQVNYEE']\n",
            "\n",
            "\n",
            "2LV6   The complex between Ca-Calmodulin and skeletal muscle myosin light chain kinase from combination of NMR and aqueous and contrast-matched SAXS data\n",
            "2LV6_1|Chain A|Calmodulin|Homo sapiens (9606)\n",
            "Pattern found in sequence 2LV6_1|Chain at positions: ['DKDGDGTITTKE', 'DADGNGTIDFPE', 'DKDGNGFISAAE', 'DIDGDGQVNYEE']\n",
            "\n",
            "\n",
            "5TBY   HUMAN BETA CARDIAC HEAVY MEROMYOSIN INTERACTING-HEADS MOTIF OBTAINED BY HOMOLOGY MODELING (USING SWISS-MODEL) OF HUMAN SEQUENCE FROM APHONOPELMA HOMOLOGY MODEL (PDB-3JBH), RIGIDLY FITTED TO HUMAN BETA-CARDIAC NEGATIVELY STAINED THICK FILAMENT 3D-RECONSTRUCTION (EMD-2240)\n",
            "5TBY_3|Chains E, F|Myosin regulatory light chain 2, ventricular/cardiac muscle isoform|Homo sapiens (9606)\n",
            "Pattern found in sequence 5TBY_3|Chains at positions: ['DQNRDGFIDKND']\n",
            "\n",
            "\n",
            "2K0F   Calmodulin complexed with calmodulin-binding peptide from smooth muscle myosin light chain kinase\n",
            "2K0F_1|Chain A|calmodulin|Homo sapiens (9606)\n",
            "Pattern found in sequence 2K0F_1|Chain at positions: ['DKDGDGTITTKE', 'DADGNGTIDFPE', 'DKDGNGYISAAE', 'DIDGDGQVNYEE']\n",
            "\n",
            "\n",
            "2LNK   Solution structure of Ca-bound S100A4 in complex with non-muscle myosin IIA\n",
            "2LNK_2|Chains B[auth A], C[auth B]|Protein S100-A4|Homo sapiens (9606)\n",
            "Pattern found in sequence 2LNK_2|Chains at positions: ['DSNRDNEVDFQE']\n",
            "\n",
            "\n",
            "8G4L   Cryo-EM structure of the human cardiac myosin filament\n",
            "8G4L_3|Chains AA[auth ac], BA[auth ad], CC[auth ai], DC[auth aj], ED[auth aq], FD[auth ar], GA[auth bc], HA[auth bd], KD[auth bi], LD[auth bj], NA[auth bq], OA[auth br], PB[auth c], QB[auth d], RD[auth i], SD[auth j], VB[auth q], WB[auth r]|Myosin regulatory light chain 2, ventricular/cardiac muscle isoform|Homo sapiens (9606)\n",
            "Pattern found in sequence 8G4L_3|Chains at positions: ['DQNRDGFIDKND']\n",
            "\n",
            "\n",
            "5JTH   Crystal structure of E67A calmodulin - CaM:RM20 analog complex\n",
            "5JTH_1|Chain A|Calmodulin|Homo sapiens (9606)\n",
            "Pattern found in sequence 5JTH_1|Chain at positions: ['DKDGDGTITTKE', 'DKDGNGYISAAE', 'DIDGDGQVNYEE']\n",
            "\n",
            "\n"
          ]
        }
      ]
    },
    {
      "cell_type": "code",
      "source": [],
      "metadata": {
        "colab": {
          "base_uri": "https://localhost:8080/",
          "height": 35
        },
        "id": "d3RFGCaiErmL",
        "outputId": "cd4af57b-31b4-433d-8441-ea1a6bb2e1f0"
      },
      "execution_count": null,
      "outputs": [
        {
          "output_type": "execute_result",
          "data": {
            "text/plain": [
              "'8ACT'"
            ],
            "application/vnd.google.colaboratory.intrinsic+json": {
              "type": "string"
            }
          },
          "metadata": {},
          "execution_count": 255
        }
      ]
    },
    {
      "cell_type": "code",
      "source": [],
      "metadata": {
        "id": "HJG24zBoTJmt"
      },
      "execution_count": null,
      "outputs": []
    }
  ]
}